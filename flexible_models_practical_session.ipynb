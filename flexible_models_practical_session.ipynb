{
 "cells": [
  {
   "cell_type": "markdown",
   "id": "a7c52dc2",
   "metadata": {
    "lines_to_next_cell": 0
   },
   "source": [
    "\n",
    "The aim of the exercise is to get familiar with the histogram gradient-boosting in scikit-learn. Besides, we will use this model within a cross-validation framework in order to inspect internal parameters found via grid-search.\n",
    "\n",
    "We will use the California housing dataset."
   ]
  },
  {
   "cell_type": "code",
   "execution_count": 1,
   "id": "6ac33e54",
   "metadata": {
    "execution": {
     "iopub.execute_input": "2025-02-18T12:17:57.475403Z",
     "iopub.status.busy": "2025-02-18T12:17:57.474810Z",
     "iopub.status.idle": "2025-02-18T12:17:58.237972Z",
     "shell.execute_reply": "2025-02-18T12:17:58.237007Z"
    }
   },
   "outputs": [],
   "source": [
    "from sklearn.datasets import fetch_california_housing\n",
    "\n",
    "data, target = fetch_california_housing(return_X_y=True, as_frame=True)\n",
    "target *= 100  # rescale the target in k$"
   ]
  },
  {
   "cell_type": "markdown",
   "id": "92fcaf32",
   "metadata": {},
   "source": [
    "📝 TODO: First, create a histogram gradient boosting regressor. You can set the trees number to be large, and configure the model to use early-stopping."
   ]
  },
  {
   "cell_type": "code",
   "execution_count": 2,
   "id": "bbc399d2",
   "metadata": {
    "execution": {
     "iopub.execute_input": "2025-02-18T12:17:58.240425Z",
     "iopub.status.busy": "2025-02-18T12:17:58.240168Z",
     "iopub.status.idle": "2025-02-18T12:17:58.372693Z",
     "shell.execute_reply": "2025-02-18T12:17:58.371717Z"
    },
    "lines_to_next_cell": 0
   },
   "outputs": [],
   "source": [
    "from sklearn.ensemble import HistGradientBoostingRegressor\n",
    "\n",
    "random_state = 42\n",
    "regressor = HistGradientBoostingRegressor(\n",
    "    random_state=random_state, max_iter=1000, early_stopping=True\n",
    ")"
   ]
  },
  {
   "cell_type": "markdown",
   "id": "a0bf3983",
   "metadata": {
    "lines_to_next_cell": 0
   },
   "source": [
    "📝 TODO: Use `RandomizedSearchCV` with `n_iter=20` to find the best set of\n",
    "hyperparameters by tuning the following parameters of the `model`:\n",
    "- max_depth: [3, 8];\n",
    "- max_leaf_nodes: [15, 31];\n",
    "- learning_rate: [0.1, 1].\n",
    "\n",
    "Notice that in the notebook \"Hyperparameter tuning by randomized-search\" we\n",
    "pass distributions to be sampled by the `RandomizedSearchCV`. In this case we\n",
    "define a fixed grid of hyperparameters to be explored. Using a `GridSearchCV`\n",
    "instead would explore all the possible combinations on the grid, which can be\n",
    "costly to compute for large grids, whereas the parameter `n_iter` of the\n",
    "`RandomizedSearchCV` controls the number of different random combination that\n",
    "are evaluated. Notice that setting `n_iter` larger than the number of possible\n",
    "combinations in a grid would lead to repeating\n",
    "already-explored combinations. Here, this can't happen since the learning rate is sampled from a uniform so the number of possible combinations is infinite."
   ]
  },
  {
   "cell_type": "code",
   "execution_count": 3,
   "id": "df34e2f0",
   "metadata": {
    "execution": {
     "iopub.execute_input": "2025-02-18T12:17:58.375367Z",
     "iopub.status.busy": "2025-02-18T12:17:58.375089Z",
     "iopub.status.idle": "2025-02-18T12:17:58.381211Z",
     "shell.execute_reply": "2025-02-18T12:17:58.380406Z"
    },
    "lines_to_next_cell": 0
   },
   "outputs": [],
   "source": [
    "from sklearn.model_selection import RandomizedSearchCV\n",
    "from scipy.stats import uniform, randint\n",
    "\n",
    "param_distributions = {\n",
    "    \"max_depth\": randint(3, 8),\n",
    "    \"max_leaf_nodes\": randint(15, 31),\n",
    "    \"learning_rate\": uniform(0.1, 1),\n",
    "}\n",
    "\n",
    "model_random_search = RandomizedSearchCV(\n",
    "    regressor,\n",
    "    param_distributions=param_distributions,\n",
    "    n_iter=10,\n",
    "    n_jobs=2,\n",
    "    random_state=random_state,\n",
    "    cv=5,\n",
    "    verbose=1,\n",
    ")"
   ]
  },
  {
   "cell_type": "markdown",
   "id": "1b73de59",
   "metadata": {
    "lines_to_next_cell": 0
   },
   "source": [
    "📝 TODO: Finally, we will run our experiment through cross-validation. In this regard, define a 5-fold cross-validation. Besides, be sure to shuffle the data. Subsequently, use the function sklearn.model_selection.cross_validate to run the cross-validation. You should also set return_estimator=True, so that we can investigate the inner model trained via cross-validation."
   ]
  },
  {
   "cell_type": "code",
   "execution_count": 4,
   "id": "4ddda99d",
   "metadata": {
    "execution": {
     "iopub.execute_input": "2025-02-18T12:17:58.383324Z",
     "iopub.status.busy": "2025-02-18T12:17:58.383146Z",
     "iopub.status.idle": "2025-02-18T12:18:45.699563Z",
     "shell.execute_reply": "2025-02-18T12:18:45.697815Z"
    },
    "lines_to_next_cell": 0
   },
   "outputs": [
    {
     "name": "stdout",
     "output_type": "stream",
     "text": [
      "Fitting 5 folds for each of 10 candidates, totalling 50 fits\n"
     ]
    },
    {
     "name": "stdout",
     "output_type": "stream",
     "text": [
      "Fitting 5 folds for each of 10 candidates, totalling 50 fits\n"
     ]
    },
    {
     "name": "stdout",
     "output_type": "stream",
     "text": [
      "Fitting 5 folds for each of 10 candidates, totalling 50 fits\n"
     ]
    },
    {
     "name": "stdout",
     "output_type": "stream",
     "text": [
      "Fitting 5 folds for each of 10 candidates, totalling 50 fits\n"
     ]
    },
    {
     "name": "stdout",
     "output_type": "stream",
     "text": [
      "Fitting 5 folds for each of 10 candidates, totalling 50 fits\n"
     ]
    }
   ],
   "source": [
    "from sklearn.model_selection import cross_validate, KFold\n",
    "\n",
    "cv = KFold(n_splits=5, shuffle=True, random_state=random_state)\n",
    "cross_val_results = cross_validate(\n",
    "    model_random_search, data, target, cv=cv, return_estimator=True\n",
    ")"
   ]
  },
  {
   "cell_type": "markdown",
   "id": "7c9d68f4",
   "metadata": {
    "lines_to_next_cell": 0
   },
   "source": [
    "📝 TODO: Now that we got the cross-validation results, print out the mean and standard deviation score."
   ]
  },
  {
   "cell_type": "code",
   "execution_count": 5,
   "id": "f4face96",
   "metadata": {
    "execution": {
     "iopub.execute_input": "2025-02-18T12:18:45.704154Z",
     "iopub.status.busy": "2025-02-18T12:18:45.703694Z",
     "iopub.status.idle": "2025-02-18T12:18:45.711442Z",
     "shell.execute_reply": "2025-02-18T12:18:45.710403Z"
    },
    "lines_to_next_cell": 0
   },
   "outputs": [
    {
     "name": "stdout",
     "output_type": "stream",
     "text": [
      "Mean score: 0.833 +/- 0.012\n"
     ]
    }
   ],
   "source": [
    "cv_mean, cv_sd = (\n",
    "    cross_val_results[\"test_score\"].mean(),\n",
    "    cross_val_results[\"test_score\"].std(),\n",
    ")\n",
    "print(f\"Mean score: {cv_mean:.3f} +/- {cv_sd:.3f}\")"
   ]
  },
  {
   "cell_type": "markdown",
   "id": "06d34bd5",
   "metadata": {
    "lines_to_next_cell": 0
   },
   "source": [
    "Then inspect the estimator entry of the results and check the best parameters values. Besides, check the number of trees used by the model."
   ]
  },
  {
   "cell_type": "code",
   "execution_count": 6,
   "id": "75b75c03",
   "metadata": {
    "execution": {
     "iopub.execute_input": "2025-02-18T12:18:45.713725Z",
     "iopub.status.busy": "2025-02-18T12:18:45.713500Z",
     "iopub.status.idle": "2025-02-18T12:18:45.717883Z",
     "shell.execute_reply": "2025-02-18T12:18:45.717085Z"
    },
    "lines_to_next_cell": 0
   },
   "outputs": [
    {
     "name": "stdout",
     "output_type": "stream",
     "text": [
      "{'learning_rate': np.float64(0.10706630521971741), 'max_depth': 3, 'max_leaf_nodes': 15}\n",
      "Number of trees: 452\n",
      "{'learning_rate': np.float64(0.10706630521971741), 'max_depth': 3, 'max_leaf_nodes': 15}\n",
      "Number of trees: 514\n",
      "{'learning_rate': np.float64(0.10706630521971741), 'max_depth': 3, 'max_leaf_nodes': 15}\n",
      "Number of trees: 451\n",
      "{'learning_rate': np.float64(0.15641157902710026), 'max_depth': 6, 'max_leaf_nodes': 28}\n",
      "Number of trees: 204\n",
      "{'learning_rate': np.float64(0.10706630521971741), 'max_depth': 3, 'max_leaf_nodes': 15}\n",
      "Number of trees: 446\n"
     ]
    }
   ],
   "source": [
    "for estimator in cross_val_results[\"estimator\"]:\n",
    "    print(estimator.best_params_)\n",
    "    print(\"Number of trees:\", estimator.best_estimator_.n_iter_)"
   ]
  },
  {
   "cell_type": "markdown",
   "id": "91572e56",
   "metadata": {
    "lines_to_next_cell": 0
   },
   "source": [
    "📝 TODO: Inspect the results of the inner CV for each estimator of the outer CV. Aggregate the mean test score for each parameter combination and make a box plot of these scores."
   ]
  },
  {
   "cell_type": "code",
   "execution_count": 7,
   "id": "d11f1165",
   "metadata": {
    "execution": {
     "iopub.execute_input": "2025-02-18T12:18:45.721222Z",
     "iopub.status.busy": "2025-02-18T12:18:45.720707Z",
     "iopub.status.idle": "2025-02-18T12:18:45.751107Z",
     "shell.execute_reply": "2025-02-18T12:18:45.750350Z"
    },
    "lines_to_next_cell": 0
   },
   "outputs": [],
   "source": [
    "import pandas as pd\n",
    "\n",
    "inner_cv_results = []\n",
    "for cv_ix, estimator_ in enumerate(cross_val_results[\"estimator\"]):\n",
    "    results = pd.DataFrame(estimator_.cv_results_)\n",
    "    results[\"param_learning_rate\"] = results[\"param_learning_rate\"].round(4)\n",
    "    results = results.pivot_table(\n",
    "        index=[\"param_max_depth\", \"param_max_leaf_nodes\", \"param_learning_rate\"],\n",
    "        values=\"mean_test_score\",\n",
    "    ).rename(columns={\"mean_test_score\": f\"CV {cv_ix}\"})\n",
    "    inner_cv_results.append(results)\n",
    "inner_cv_results = pd.concat(inner_cv_results, axis=1).T"
   ]
  },
  {
   "cell_type": "code",
   "execution_count": 8,
   "id": "fbe6368b",
   "metadata": {
    "execution": {
     "iopub.execute_input": "2025-02-18T12:18:45.753429Z",
     "iopub.status.busy": "2025-02-18T12:18:45.753088Z",
     "iopub.status.idle": "2025-02-18T12:18:46.375353Z",
     "shell.execute_reply": "2025-02-18T12:18:46.373614Z"
    },
    "lines_to_next_cell": 0
   },
   "outputs": [
    {
     "data": {
      "image/png": "[encoded data removed]",
      "text/plain": [
       "<Figure size 640x480 with 1 Axes>"
      ]
     },
     "metadata": {},
     "output_type": "display_data"
    }
   ],
   "source": [
    "import matplotlib.pyplot as plt\n",
    "\n",
    "# Sort the inner_cv_results by the mean of the columns\n",
    "sorted_inner_cv_results = inner_cv_results.mean().sort_values().index\n",
    "inner_cv_results = inner_cv_results[sorted_inner_cv_results]\n",
    "\n",
    "color = {\"whiskers\": \"black\", \"medians\": \"black\", \"caps\": \"black\"}\n",
    "inner_cv_results.plot.box(vert=False, color=color)\n",
    "plt.xlabel(\"R2 score\")\n",
    "plt.ylabel(\"Parameters\")\n",
    "_ = plt.title(\n",
    "    \"Inner CV results with parameters\\n\" \"(max_depth, max_leaf_nodes, learning_rate)\"\n",
    ")"
   ]
  },
  {
   "cell_type": "markdown",
   "id": "048fa132",
   "metadata": {},
   "source": [
    "We see that the first 4 ranked set of parameters are very close. We could select any of these 4 combinations. It coincides with the results we observe when inspecting the best parameters of the outer CV."
   ]
  }
 ],
 "metadata": {
  "jupytext": {
   "main_language": "python"
  },
  "kernelspec": {
   "display_name": "Python 3",
   "name": "python3"
  },
  "language_info": {
   "codemirror_mode": {
    "name": "ipython",
    "version": 3
   },
   "file_extension": ".py",
   "mimetype": "text/x-python",
   "name": "python",
   "nbconvert_exporter": "python",
   "pygments_lexer": "ipython3",
   "version": "3.12.3"
  }
 },
 "nbformat": 4,
 "nbformat_minor": 5
}
