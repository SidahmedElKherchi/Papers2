{
 "cells": [
  {
   "cell_type": "code",
   "execution_count": null,
   "id": "5ae1942c",
   "metadata": {
    "lines_to_next_cell": 0
   },
   "outputs": [],
   "source": []
  },
  {
   "cell_type": "markdown",
   "id": "3f083cda",
   "metadata": {},
   "source": [
    "# Python: Choice of learners for double machine learning\n",
    "\n",
    "This notebooks contains some practical recommendations to choose the right learner and evaluate different learners for the corresponding nuisance components. It is an extension of the [DoubleML package example on learner selection](https://docs.doubleml.org/stable/examples/py_double_ml_learner.html), adding an example with non-linear data. It is a small introduction to\n",
    "Double-Machine Learning that you will cover more in depth in the following course.\n",
    "\n",
    "First, we will work with a simulated linear model for the data generating process and compare different learners for the nuisance components. In the second part, we will work with a non-linear data generating process and compare different learners for the nuisance components.\n",
    "\n",
    "## Linear Partial Linear Regression Model (PML)\n",
    "Let $D$ the treatment, $Y$ the outcome, $X$ the confounders, $\\theta$ the targeted causal effect (here supposed to be constent).\n",
    "\n",
    "A PML is of the form:\n",
    "$Y = \\theta D + g(X)+ \\epsilon$ with  $\\epsilon$ the residual noise, supposed to be mean zero $\\mathbb E[\\epsilon|D, X]=0$.\n",
    "\n",
    "We can solve for $\\theta$ by debiaising both the treatment and the outcome, then solving the debiased the normal equation.\n",
    "1. $\\tilde{D} = D - \\hat{m_0}(X)$ with $\\hat{m_0}$ targeting $E[D|X]$\n",
    "1. $\\tilde{Y} = Y - \\hat{\\ell}(X)$ with $\\hat{\\ell}$ targeting $E[Y|X]$\n",
    "3. Solving the normal equation: $\\mathbb E [(\\tilde{Y} - \\beta \\tilde{D})\\tilde{D}]=0$\n",
    "\n",
    "This procedure is quite general, but the second point is easy with the hypothesis of a PML: In this case, solving the normal equation sums up to find $\\hat{\\beta}$ by solving the OLS of $\\tilde{Y}$ on $\\tilde{D}$.\n",
    "You will see the theoretical aspects of PLM in session 6.\n",
    "\n",
    "### Linear PML\n",
    "For the first example, we will work with a linear PML.\n",
    "The data generation process for this data has the following form:\n",
    "$$d_i = m_0(x_i) + s_1 v_i \\quad with\\; v_i \\sim \\mathcal{N}(0,1)$$\n",
    "$$y_i = \\alpha d_i + g_0(x_i) + s_2 \\zeta_i \\quad with\\; \\zeta_i \\sim \\mathcal{N}(0,1)$$\n",
    "with covariates\n",
    "$x_i \\sim \\mathcal{N}(0, \\Sigma)$, where  $\\Sigma$ is a matrix with entries\n",
    "$\\Sigma_{kj} = 0.7^{|j-k|}$.\n",
    "The nuisance functions are given by:\n",
    "$$m_0(x_i) = a_0 x_{i,1} + a_1 \\frac{\\exp(x_{i,3})}{1+\\exp(x_{i,3})}$$\n",
    "$$g_0(x_i) = b_0 \\frac{\\exp(x_{i,1})}{1+\\exp(x_{i,1})} + b_1 x_{i,3}$$\n",
    "\n",
    "To enforce linearity, we will set to 0 the non linear components: $a_0=0, a_1=1, s_1=0, b_0=0$\n",
    "\n",
    "## Selection for linear PLM\n",
    "To be able to compare the properties of different learners, we will start by setting the true treatment parameter to zero, fix some other parameters of the data generating process and generate several datasets\n",
    "to obtain some information about the distribution of the estimators."
   ]
  },
  {
   "cell_type": "code",
   "execution_count": 1,
   "id": "7d124f5e",
   "metadata": {
    "execution": {
     "iopub.execute_input": "2025-02-19T14:04:38.080867Z",
     "iopub.status.busy": "2025-02-19T14:04:38.080280Z",
     "iopub.status.idle": "2025-02-19T14:04:38.619191Z",
     "shell.execute_reply": "2025-02-19T14:04:38.618473Z"
    },
    "lines_to_next_cell": 0
   },
   "outputs": [
    {
     "name": "stdout",
     "output_type": "stream",
     "text": [
      "Requirement already satisfied: doubleml in /home/mdoutreligne/research/causal-ml-course-practical-sessions/.venv/lib/python3.12/site-packages (0.9.3)\r\n",
      "Requirement already satisfied: joblib in /home/mdoutreligne/research/causal-ml-course-practical-sessions/.venv/lib/python3.12/site-packages (from doubleml) (1.4.2)\r\n",
      "Requirement already satisfied: numpy in /home/mdoutreligne/research/causal-ml-course-practical-sessions/.venv/lib/python3.12/site-packages (from doubleml) (2.2.3)\r\n",
      "Requirement already satisfied: pandas in /home/mdoutreligne/research/causal-ml-course-practical-sessions/.venv/lib/python3.12/site-packages (from doubleml) (2.2.3)\r\n",
      "Requirement already satisfied: scipy in /home/mdoutreligne/research/causal-ml-course-practical-sessions/.venv/lib/python3.12/site-packages (from doubleml) (1.15.2)\r\n",
      "Requirement already satisfied: scikit-learn<1.6.0,>=1.4.0 in /home/mdoutreligne/research/causal-ml-course-practical-sessions/.venv/lib/python3.12/site-packages (from doubleml) (1.5.2)\r\n",
      "Requirement already satisfied: statsmodels in /home/mdoutreligne/research/causal-ml-course-practical-sessions/.venv/lib/python3.12/site-packages (from doubleml) (0.14.4)\r\n",
      "Requirement already satisfied: matplotlib in /home/mdoutreligne/research/causal-ml-course-practical-sessions/.venv/lib/python3.12/site-packages (from doubleml) (3.10.0)\r\n",
      "Requirement already satisfied: plotly in /home/mdoutreligne/research/causal-ml-course-practical-sessions/.venv/lib/python3.12/site-packages (from doubleml) (6.0.0)\r\n",
      "Requirement already satisfied: threadpoolctl>=3.1.0 in /home/mdoutreligne/research/causal-ml-course-practical-sessions/.venv/lib/python3.12/site-packages (from scikit-learn<1.6.0,>=1.4.0->doubleml) (3.5.0)\r\n",
      "Requirement already satisfied: contourpy>=1.0.1 in /home/mdoutreligne/research/causal-ml-course-practical-sessions/.venv/lib/python3.12/site-packages (from matplotlib->doubleml) (1.3.1)\r\n",
      "Requirement already satisfied: cycler>=0.10 in /home/mdoutreligne/research/causal-ml-course-practical-sessions/.venv/lib/python3.12/site-packages (from matplotlib->doubleml) (0.12.1)\r\n",
      "Requirement already satisfied: fonttools>=4.22.0 in /home/mdoutreligne/research/causal-ml-course-practical-sessions/.venv/lib/python3.12/site-packages (from matplotlib->doubleml) (4.56.0)\r\n",
      "Requirement already satisfied: kiwisolver>=1.3.1 in /home/mdoutreligne/research/causal-ml-course-practical-sessions/.venv/lib/python3.12/site-packages (from matplotlib->doubleml) (1.4.8)\r\n",
      "Requirement already satisfied: packaging>=20.0 in /home/mdoutreligne/research/causal-ml-course-practical-sessions/.venv/lib/python3.12/site-packages (from matplotlib->doubleml) (24.2)\r\n",
      "Requirement already satisfied: pillow>=8 in /home/mdoutreligne/research/causal-ml-course-practical-sessions/.venv/lib/python3.12/site-packages (from matplotlib->doubleml) (11.1.0)\r\n",
      "Requirement already satisfied: pyparsing>=2.3.1 in /home/mdoutreligne/research/causal-ml-course-practical-sessions/.venv/lib/python3.12/site-packages (from matplotlib->doubleml) (3.2.1)\r\n",
      "Requirement already satisfied: python-dateutil>=2.7 in /home/mdoutreligne/research/causal-ml-course-practical-sessions/.venv/lib/python3.12/site-packages (from matplotlib->doubleml) (2.9.0.post0)\r\n",
      "Requirement already satisfied: pytz>=2020.1 in /home/mdoutreligne/research/causal-ml-course-practical-sessions/.venv/lib/python3.12/site-packages (from pandas->doubleml) (2025.1)\r\n",
      "Requirement already satisfied: tzdata>=2022.7 in /home/mdoutreligne/research/causal-ml-course-practical-sessions/.venv/lib/python3.12/site-packages (from pandas->doubleml) (2025.1)\r\n",
      "Requirement already satisfied: narwhals>=1.15.1 in /home/mdoutreligne/research/causal-ml-course-practical-sessions/.venv/lib/python3.12/site-packages (from plotly->doubleml) (1.27.1)\r\n",
      "Requirement already satisfied: patsy>=0.5.6 in /home/mdoutreligne/research/causal-ml-course-practical-sessions/.venv/lib/python3.12/site-packages (from statsmodels->doubleml) (1.0.1)\r\n"
     ]
    },
    {
     "name": "stdout",
     "output_type": "stream",
     "text": [
      "Requirement already satisfied: six>=1.5 in /home/mdoutreligne/research/causal-ml-course-practical-sessions/.venv/lib/python3.12/site-packages (from python-dateutil>=2.7->matplotlib->doubleml) (1.17.0)\r\n"
     ]
    },
    {
     "name": "stdout",
     "output_type": "stream",
     "text": [
      "\r\n",
      "\u001b[1m[\u001b[0m\u001b[34;49mnotice\u001b[0m\u001b[1;39;49m]\u001b[0m\u001b[39;49m A new release of pip is available: \u001b[0m\u001b[31;49m24.3.1\u001b[0m\u001b[39;49m -> \u001b[0m\u001b[32;49m25.0.1\u001b[0m\r\n",
      "\u001b[1m[\u001b[0m\u001b[34;49mnotice\u001b[0m\u001b[1;39;49m]\u001b[0m\u001b[39;49m To update, run: \u001b[0m\u001b[32;49mpip install --upgrade pip\u001b[0m\r\n"
     ]
    }
   ],
   "source": [
    "# # Installation of doubleml\n",
    "!pip install doubleml"
   ]
  },
  {
   "cell_type": "code",
   "execution_count": 2,
   "id": "cfd6642a",
   "metadata": {
    "execution": {
     "iopub.execute_input": "2025-02-19T14:04:38.621157Z",
     "iopub.status.busy": "2025-02-19T14:04:38.621016Z",
     "iopub.status.idle": "2025-02-19T14:04:39.418494Z",
     "shell.execute_reply": "2025-02-19T14:04:39.417749Z"
    }
   },
   "outputs": [],
   "source": [
    "import numpy as np\n",
    "import pandas as pd\n",
    "import doubleml as dml\n",
    "import re # for string manipulation\n",
    "from doubleml.datasets import make_plr_CCDDHNR2018\n",
    "\n",
    "theta = 0\n",
    "n_obs = 500\n",
    "dim_x = 5\n",
    "n_rep = 50\n",
    "\n",
    "np.random.seed(42)\n",
    "datasets = []\n",
    "for i in range(n_rep):\n",
    "    data = make_plr_CCDDHNR2018(\n",
    "        theta=theta,\n",
    "        n_obs=n_obs,\n",
    "        dim_x=dim_x,\n",
    "        R2_d=0.8,\n",
    "        R2_y=0.8,\n",
    "        a_0=0,\n",
    "        a_1=1,\n",
    "        s_1=0,\n",
    "        b_0=0,\n",
    "        return_type=\"DataFrame\",\n",
    "    )\n",
    "    data[\"d\"] = (data[\"d\"] >= 0.5).astype(int)\n",
    "    datasets.append(dml.DoubleMLData(data, \"y\", \"d\"))"
   ]
  },
  {
   "cell_type": "markdown",
   "id": "5571f4fd",
   "metadata": {},
   "source": [
    "For simplicity, we will restrict ourselves to the comparison of two different types and evaluate a learner of linear type and a tree based estimator for each nuisance component (with default hyperparameters)."
   ]
  },
  {
   "cell_type": "code",
   "execution_count": 3,
   "id": "6242c519",
   "metadata": {
    "execution": {
     "iopub.execute_input": "2025-02-19T14:04:39.420461Z",
     "iopub.status.busy": "2025-02-19T14:04:39.420276Z",
     "iopub.status.idle": "2025-02-19T14:04:39.436820Z",
     "shell.execute_reply": "2025-02-19T14:04:39.436214Z"
    }
   },
   "outputs": [],
   "source": [
    "from sklearn.linear_model import LinearRegression, LogisticRegressionCV, LassoCV\n",
    "from sklearn.ensemble import (\n",
    "    GradientBoostingRegressor,\n",
    "    GradientBoostingClassifier,\n",
    "    HistGradientBoostingClassifier,\n",
    "    HistGradientBoostingRegressor,\n",
    ")\n",
    "from sklearn.base import clone\n",
    "\n",
    "reg_learner_1 = LinearRegression()\n",
    "reg_learner_2 = GradientBoostingRegressor()\n",
    "class_learner_1 = LogisticRegressionCV()\n",
    "class_learner_2 = GradientBoostingClassifier()\n",
    "\n",
    "learner_list = [\n",
    "    {\"ml_l\": reg_learner_1, \"ml_m\": class_learner_1},\n",
    "    {\"ml_l\": reg_learner_2, \"ml_m\": class_learner_1},\n",
    "    {\"ml_l\": reg_learner_1, \"ml_m\": class_learner_2},\n",
    "    {\"ml_l\": reg_learner_2, \"ml_m\": class_learner_2},\n",
    "]"
   ]
  },
  {
   "cell_type": "markdown",
   "id": "291346cc",
   "metadata": {},
   "source": [
    "In all combinations, we now can try to evaluate four different PLM models. To make the comparison fair, we will apply all different models to the same cross-fitting samples (usually this should not matter, we only consider this here to get slightly cleaner comparison)."
   ]
  },
  {
   "cell_type": "markdown",
   "id": "9fb69573",
   "metadata": {},
   "source": [
    "Standard approach: At first, we will look at the most straightforward approach using the inbuild nuisance losses. The `nuisance_loss` attribute contains the out-of-sample RMSE or Log Loss for the nuisance functions. We will save all RMSEs and the corresponding treatment estimates for all combinations of learners over all repetitions."
   ]
  },
  {
   "cell_type": "code",
   "execution_count": 4,
   "id": "60fedc43",
   "metadata": {
    "execution": {
     "iopub.execute_input": "2025-02-19T14:04:39.438562Z",
     "iopub.status.busy": "2025-02-19T14:04:39.438256Z",
     "iopub.status.idle": "2025-02-19T14:05:19.268208Z",
     "shell.execute_reply": "2025-02-19T14:05:19.267383Z"
    }
   },
   "outputs": [
    {
     "name": "stdout",
     "output_type": "stream",
     "text": [
      "\r",
      "Processing: 2.0 %"
     ]
    },
    {
     "name": "stderr",
     "output_type": "stream",
     "text": [
      "/home/mdoutreligne/research/causal-ml-course-practical-sessions/.venv/lib/python3.12/site-packages/doubleml/utils/_checks.py:205: UserWarning: Propensity predictions from learner LogisticRegressionCV() for ml_m are close to zero or one (eps=1e-12).\n",
      "  warnings.warn(f'Propensity predictions from learner {str(learner)} for'\n"
     ]
    },
    {
     "name": "stderr",
     "output_type": "stream",
     "text": [
      "/home/mdoutreligne/research/causal-ml-course-practical-sessions/.venv/lib/python3.12/site-packages/doubleml/utils/_checks.py:205: UserWarning: Propensity predictions from learner LogisticRegressionCV() for ml_m are close to zero or one (eps=1e-12).\n",
      "  warnings.warn(f'Propensity predictions from learner {str(learner)} for'\n"
     ]
    },
    {
     "name": "stdout",
     "output_type": "stream",
     "text": [
      "\r",
      "Processing: 4.0 %"
     ]
    },
    {
     "name": "stderr",
     "output_type": "stream",
     "text": [
      "/home/mdoutreligne/research/causal-ml-course-practical-sessions/.venv/lib/python3.12/site-packages/doubleml/utils/_checks.py:205: UserWarning: Propensity predictions from learner LogisticRegressionCV() for ml_m are close to zero or one (eps=1e-12).\n",
      "  warnings.warn(f'Propensity predictions from learner {str(learner)} for'\n"
     ]
    },
    {
     "name": "stderr",
     "output_type": "stream",
     "text": [
      "/home/mdoutreligne/research/causal-ml-course-practical-sessions/.venv/lib/python3.12/site-packages/doubleml/utils/_checks.py:205: UserWarning: Propensity predictions from learner LogisticRegressionCV() for ml_m are close to zero or one (eps=1e-12).\n",
      "  warnings.warn(f'Propensity predictions from learner {str(learner)} for'\n"
     ]
    },
    {
     "name": "stdout",
     "output_type": "stream",
     "text": [
      "\r",
      "Processing: 6.0 %"
     ]
    },
    {
     "name": "stderr",
     "output_type": "stream",
     "text": [
      "/home/mdoutreligne/research/causal-ml-course-practical-sessions/.venv/lib/python3.12/site-packages/doubleml/utils/_checks.py:205: UserWarning: Propensity predictions from learner LogisticRegressionCV() for ml_m are close to zero or one (eps=1e-12).\n",
      "  warnings.warn(f'Propensity predictions from learner {str(learner)} for'\n"
     ]
    },
    {
     "name": "stderr",
     "output_type": "stream",
     "text": [
      "/home/mdoutreligne/research/causal-ml-course-practical-sessions/.venv/lib/python3.12/site-packages/doubleml/utils/_checks.py:205: UserWarning: Propensity predictions from learner LogisticRegressionCV() for ml_m are close to zero or one (eps=1e-12).\n",
      "  warnings.warn(f'Propensity predictions from learner {str(learner)} for'\n"
     ]
    },
    {
     "name": "stdout",
     "output_type": "stream",
     "text": [
      "\r",
      "Processing: 8.0 %"
     ]
    },
    {
     "name": "stderr",
     "output_type": "stream",
     "text": [
      "/home/mdoutreligne/research/causal-ml-course-practical-sessions/.venv/lib/python3.12/site-packages/doubleml/utils/_checks.py:205: UserWarning: Propensity predictions from learner LogisticRegressionCV() for ml_m are close to zero or one (eps=1e-12).\n",
      "  warnings.warn(f'Propensity predictions from learner {str(learner)} for'\n"
     ]
    },
    {
     "name": "stderr",
     "output_type": "stream",
     "text": [
      "/home/mdoutreligne/research/causal-ml-course-practical-sessions/.venv/lib/python3.12/site-packages/doubleml/utils/_checks.py:205: UserWarning: Propensity predictions from learner LogisticRegressionCV() for ml_m are close to zero or one (eps=1e-12).\n",
      "  warnings.warn(f'Propensity predictions from learner {str(learner)} for'\n"
     ]
    },
    {
     "name": "stdout",
     "output_type": "stream",
     "text": [
      "\r",
      "Processing: 10.0 %"
     ]
    },
    {
     "name": "stderr",
     "output_type": "stream",
     "text": [
      "/home/mdoutreligne/research/causal-ml-course-practical-sessions/.venv/lib/python3.12/site-packages/doubleml/utils/_checks.py:205: UserWarning: Propensity predictions from learner LogisticRegressionCV() for ml_m are close to zero or one (eps=1e-12).\n",
      "  warnings.warn(f'Propensity predictions from learner {str(learner)} for'\n"
     ]
    },
    {
     "name": "stderr",
     "output_type": "stream",
     "text": [
      "/home/mdoutreligne/research/causal-ml-course-practical-sessions/.venv/lib/python3.12/site-packages/doubleml/utils/_checks.py:205: UserWarning: Propensity predictions from learner LogisticRegressionCV() for ml_m are close to zero or one (eps=1e-12).\n",
      "  warnings.warn(f'Propensity predictions from learner {str(learner)} for'\n"
     ]
    },
    {
     "name": "stdout",
     "output_type": "stream",
     "text": [
      "\r",
      "Processing: 12.0 %"
     ]
    },
    {
     "name": "stderr",
     "output_type": "stream",
     "text": [
      "/home/mdoutreligne/research/causal-ml-course-practical-sessions/.venv/lib/python3.12/site-packages/doubleml/utils/_checks.py:205: UserWarning: Propensity predictions from learner LogisticRegressionCV() for ml_m are close to zero or one (eps=1e-12).\n",
      "  warnings.warn(f'Propensity predictions from learner {str(learner)} for'\n"
     ]
    },
    {
     "name": "stderr",
     "output_type": "stream",
     "text": [
      "/home/mdoutreligne/research/causal-ml-course-practical-sessions/.venv/lib/python3.12/site-packages/doubleml/utils/_checks.py:205: UserWarning: Propensity predictions from learner LogisticRegressionCV() for ml_m are close to zero or one (eps=1e-12).\n",
      "  warnings.warn(f'Propensity predictions from learner {str(learner)} for'\n"
     ]
    },
    {
     "name": "stdout",
     "output_type": "stream",
     "text": [
      "\r",
      "Processing: 14.0 %"
     ]
    },
    {
     "name": "stderr",
     "output_type": "stream",
     "text": [
      "/home/mdoutreligne/research/causal-ml-course-practical-sessions/.venv/lib/python3.12/site-packages/doubleml/utils/_checks.py:205: UserWarning: Propensity predictions from learner LogisticRegressionCV() for ml_m are close to zero or one (eps=1e-12).\n",
      "  warnings.warn(f'Propensity predictions from learner {str(learner)} for'\n"
     ]
    },
    {
     "name": "stderr",
     "output_type": "stream",
     "text": [
      "/home/mdoutreligne/research/causal-ml-course-practical-sessions/.venv/lib/python3.12/site-packages/doubleml/utils/_checks.py:205: UserWarning: Propensity predictions from learner LogisticRegressionCV() for ml_m are close to zero or one (eps=1e-12).\n",
      "  warnings.warn(f'Propensity predictions from learner {str(learner)} for'\n"
     ]
    },
    {
     "name": "stdout",
     "output_type": "stream",
     "text": [
      "\r",
      "Processing: 16.0 %"
     ]
    },
    {
     "name": "stderr",
     "output_type": "stream",
     "text": [
      "/home/mdoutreligne/research/causal-ml-course-practical-sessions/.venv/lib/python3.12/site-packages/doubleml/utils/_checks.py:205: UserWarning: Propensity predictions from learner LogisticRegressionCV() for ml_m are close to zero or one (eps=1e-12).\n",
      "  warnings.warn(f'Propensity predictions from learner {str(learner)} for'\n"
     ]
    },
    {
     "name": "stderr",
     "output_type": "stream",
     "text": [
      "/home/mdoutreligne/research/causal-ml-course-practical-sessions/.venv/lib/python3.12/site-packages/doubleml/utils/_checks.py:205: UserWarning: Propensity predictions from learner LogisticRegressionCV() for ml_m are close to zero or one (eps=1e-12).\n",
      "  warnings.warn(f'Propensity predictions from learner {str(learner)} for'\n"
     ]
    },
    {
     "name": "stdout",
     "output_type": "stream",
     "text": [
      "\r",
      "Processing: 18.0 %"
     ]
    },
    {
     "name": "stderr",
     "output_type": "stream",
     "text": [
      "/home/mdoutreligne/research/causal-ml-course-practical-sessions/.venv/lib/python3.12/site-packages/doubleml/utils/_checks.py:205: UserWarning: Propensity predictions from learner LogisticRegressionCV() for ml_m are close to zero or one (eps=1e-12).\n",
      "  warnings.warn(f'Propensity predictions from learner {str(learner)} for'\n"
     ]
    },
    {
     "name": "stderr",
     "output_type": "stream",
     "text": [
      "/home/mdoutreligne/research/causal-ml-course-practical-sessions/.venv/lib/python3.12/site-packages/doubleml/utils/_checks.py:205: UserWarning: Propensity predictions from learner LogisticRegressionCV() for ml_m are close to zero or one (eps=1e-12).\n",
      "  warnings.warn(f'Propensity predictions from learner {str(learner)} for'\n"
     ]
    },
    {
     "name": "stdout",
     "output_type": "stream",
     "text": [
      "\r",
      "Processing: 20.0 %"
     ]
    },
    {
     "name": "stderr",
     "output_type": "stream",
     "text": [
      "/home/mdoutreligne/research/causal-ml-course-practical-sessions/.venv/lib/python3.12/site-packages/doubleml/utils/_checks.py:205: UserWarning: Propensity predictions from learner LogisticRegressionCV() for ml_m are close to zero or one (eps=1e-12).\n",
      "  warnings.warn(f'Propensity predictions from learner {str(learner)} for'\n"
     ]
    },
    {
     "name": "stderr",
     "output_type": "stream",
     "text": [
      "/home/mdoutreligne/research/causal-ml-course-practical-sessions/.venv/lib/python3.12/site-packages/doubleml/utils/_checks.py:205: UserWarning: Propensity predictions from learner LogisticRegressionCV() for ml_m are close to zero or one (eps=1e-12).\n",
      "  warnings.warn(f'Propensity predictions from learner {str(learner)} for'\n"
     ]
    },
    {
     "name": "stdout",
     "output_type": "stream",
     "text": [
      "\r",
      "Processing: 22.0 %"
     ]
    },
    {
     "name": "stderr",
     "output_type": "stream",
     "text": [
      "/home/mdoutreligne/research/causal-ml-course-practical-sessions/.venv/lib/python3.12/site-packages/doubleml/utils/_checks.py:205: UserWarning: Propensity predictions from learner LogisticRegressionCV() for ml_m are close to zero or one (eps=1e-12).\n",
      "  warnings.warn(f'Propensity predictions from learner {str(learner)} for'\n"
     ]
    },
    {
     "name": "stderr",
     "output_type": "stream",
     "text": [
      "/home/mdoutreligne/research/causal-ml-course-practical-sessions/.venv/lib/python3.12/site-packages/doubleml/utils/_checks.py:205: UserWarning: Propensity predictions from learner LogisticRegressionCV() for ml_m are close to zero or one (eps=1e-12).\n",
      "  warnings.warn(f'Propensity predictions from learner {str(learner)} for'\n"
     ]
    },
    {
     "name": "stdout",
     "output_type": "stream",
     "text": [
      "\r",
      "Processing: 24.0 %"
     ]
    },
    {
     "name": "stderr",
     "output_type": "stream",
     "text": [
      "/home/mdoutreligne/research/causal-ml-course-practical-sessions/.venv/lib/python3.12/site-packages/doubleml/utils/_checks.py:205: UserWarning: Propensity predictions from learner LogisticRegressionCV() for ml_m are close to zero or one (eps=1e-12).\n",
      "  warnings.warn(f'Propensity predictions from learner {str(learner)} for'\n"
     ]
    },
    {
     "name": "stderr",
     "output_type": "stream",
     "text": [
      "/home/mdoutreligne/research/causal-ml-course-practical-sessions/.venv/lib/python3.12/site-packages/doubleml/utils/_checks.py:205: UserWarning: Propensity predictions from learner LogisticRegressionCV() for ml_m are close to zero or one (eps=1e-12).\n",
      "  warnings.warn(f'Propensity predictions from learner {str(learner)} for'\n"
     ]
    },
    {
     "name": "stdout",
     "output_type": "stream",
     "text": [
      "\r",
      "Processing: 26.0 %"
     ]
    },
    {
     "name": "stderr",
     "output_type": "stream",
     "text": [
      "/home/mdoutreligne/research/causal-ml-course-practical-sessions/.venv/lib/python3.12/site-packages/doubleml/utils/_checks.py:205: UserWarning: Propensity predictions from learner LogisticRegressionCV() for ml_m are close to zero or one (eps=1e-12).\n",
      "  warnings.warn(f'Propensity predictions from learner {str(learner)} for'\n"
     ]
    },
    {
     "name": "stderr",
     "output_type": "stream",
     "text": [
      "/home/mdoutreligne/research/causal-ml-course-practical-sessions/.venv/lib/python3.12/site-packages/doubleml/utils/_checks.py:205: UserWarning: Propensity predictions from learner LogisticRegressionCV() for ml_m are close to zero or one (eps=1e-12).\n",
      "  warnings.warn(f'Propensity predictions from learner {str(learner)} for'\n"
     ]
    },
    {
     "name": "stdout",
     "output_type": "stream",
     "text": [
      "\r",
      "Processing: 28.0 %"
     ]
    },
    {
     "name": "stderr",
     "output_type": "stream",
     "text": [
      "/home/mdoutreligne/research/causal-ml-course-practical-sessions/.venv/lib/python3.12/site-packages/doubleml/utils/_checks.py:205: UserWarning: Propensity predictions from learner LogisticRegressionCV() for ml_m are close to zero or one (eps=1e-12).\n",
      "  warnings.warn(f'Propensity predictions from learner {str(learner)} for'\n"
     ]
    },
    {
     "name": "stderr",
     "output_type": "stream",
     "text": [
      "/home/mdoutreligne/research/causal-ml-course-practical-sessions/.venv/lib/python3.12/site-packages/doubleml/utils/_checks.py:205: UserWarning: Propensity predictions from learner LogisticRegressionCV() for ml_m are close to zero or one (eps=1e-12).\n",
      "  warnings.warn(f'Propensity predictions from learner {str(learner)} for'\n"
     ]
    },
    {
     "name": "stdout",
     "output_type": "stream",
     "text": [
      "\r",
      "Processing: 30.0 %"
     ]
    },
    {
     "name": "stderr",
     "output_type": "stream",
     "text": [
      "/home/mdoutreligne/research/causal-ml-course-practical-sessions/.venv/lib/python3.12/site-packages/doubleml/utils/_checks.py:205: UserWarning: Propensity predictions from learner LogisticRegressionCV() for ml_m are close to zero or one (eps=1e-12).\n",
      "  warnings.warn(f'Propensity predictions from learner {str(learner)} for'\n"
     ]
    },
    {
     "name": "stderr",
     "output_type": "stream",
     "text": [
      "/home/mdoutreligne/research/causal-ml-course-practical-sessions/.venv/lib/python3.12/site-packages/doubleml/utils/_checks.py:205: UserWarning: Propensity predictions from learner LogisticRegressionCV() for ml_m are close to zero or one (eps=1e-12).\n",
      "  warnings.warn(f'Propensity predictions from learner {str(learner)} for'\n"
     ]
    },
    {
     "name": "stdout",
     "output_type": "stream",
     "text": [
      "\r",
      "Processing: 32.0 %"
     ]
    },
    {
     "name": "stderr",
     "output_type": "stream",
     "text": [
      "/home/mdoutreligne/research/causal-ml-course-practical-sessions/.venv/lib/python3.12/site-packages/doubleml/utils/_checks.py:205: UserWarning: Propensity predictions from learner LogisticRegressionCV() for ml_m are close to zero or one (eps=1e-12).\n",
      "  warnings.warn(f'Propensity predictions from learner {str(learner)} for'\n"
     ]
    },
    {
     "name": "stderr",
     "output_type": "stream",
     "text": [
      "/home/mdoutreligne/research/causal-ml-course-practical-sessions/.venv/lib/python3.12/site-packages/doubleml/utils/_checks.py:205: UserWarning: Propensity predictions from learner LogisticRegressionCV() for ml_m are close to zero or one (eps=1e-12).\n",
      "  warnings.warn(f'Propensity predictions from learner {str(learner)} for'\n"
     ]
    },
    {
     "name": "stdout",
     "output_type": "stream",
     "text": [
      "\r",
      "Processing: 34.0 %"
     ]
    },
    {
     "name": "stderr",
     "output_type": "stream",
     "text": [
      "/home/mdoutreligne/research/causal-ml-course-practical-sessions/.venv/lib/python3.12/site-packages/doubleml/utils/_checks.py:205: UserWarning: Propensity predictions from learner LogisticRegressionCV() for ml_m are close to zero or one (eps=1e-12).\n",
      "  warnings.warn(f'Propensity predictions from learner {str(learner)} for'\n"
     ]
    },
    {
     "name": "stderr",
     "output_type": "stream",
     "text": [
      "/home/mdoutreligne/research/causal-ml-course-practical-sessions/.venv/lib/python3.12/site-packages/doubleml/utils/_checks.py:205: UserWarning: Propensity predictions from learner LogisticRegressionCV() for ml_m are close to zero or one (eps=1e-12).\n",
      "  warnings.warn(f'Propensity predictions from learner {str(learner)} for'\n"
     ]
    },
    {
     "name": "stdout",
     "output_type": "stream",
     "text": [
      "\r",
      "Processing: 36.0 %"
     ]
    },
    {
     "name": "stderr",
     "output_type": "stream",
     "text": [
      "/home/mdoutreligne/research/causal-ml-course-practical-sessions/.venv/lib/python3.12/site-packages/doubleml/utils/_checks.py:205: UserWarning: Propensity predictions from learner LogisticRegressionCV() for ml_m are close to zero or one (eps=1e-12).\n",
      "  warnings.warn(f'Propensity predictions from learner {str(learner)} for'\n"
     ]
    },
    {
     "name": "stderr",
     "output_type": "stream",
     "text": [
      "/home/mdoutreligne/research/causal-ml-course-practical-sessions/.venv/lib/python3.12/site-packages/doubleml/utils/_checks.py:205: UserWarning: Propensity predictions from learner LogisticRegressionCV() for ml_m are close to zero or one (eps=1e-12).\n",
      "  warnings.warn(f'Propensity predictions from learner {str(learner)} for'\n"
     ]
    },
    {
     "name": "stdout",
     "output_type": "stream",
     "text": [
      "\r",
      "Processing: 38.0 %"
     ]
    },
    {
     "name": "stderr",
     "output_type": "stream",
     "text": [
      "/home/mdoutreligne/research/causal-ml-course-practical-sessions/.venv/lib/python3.12/site-packages/doubleml/utils/_checks.py:205: UserWarning: Propensity predictions from learner LogisticRegressionCV() for ml_m are close to zero or one (eps=1e-12).\n",
      "  warnings.warn(f'Propensity predictions from learner {str(learner)} for'\n"
     ]
    },
    {
     "name": "stderr",
     "output_type": "stream",
     "text": [
      "/home/mdoutreligne/research/causal-ml-course-practical-sessions/.venv/lib/python3.12/site-packages/doubleml/utils/_checks.py:205: UserWarning: Propensity predictions from learner LogisticRegressionCV() for ml_m are close to zero or one (eps=1e-12).\n",
      "  warnings.warn(f'Propensity predictions from learner {str(learner)} for'\n"
     ]
    },
    {
     "name": "stdout",
     "output_type": "stream",
     "text": [
      "\r",
      "Processing: 40.0 %"
     ]
    },
    {
     "name": "stderr",
     "output_type": "stream",
     "text": [
      "/home/mdoutreligne/research/causal-ml-course-practical-sessions/.venv/lib/python3.12/site-packages/doubleml/utils/_checks.py:205: UserWarning: Propensity predictions from learner LogisticRegressionCV() for ml_m are close to zero or one (eps=1e-12).\n",
      "  warnings.warn(f'Propensity predictions from learner {str(learner)} for'\n"
     ]
    },
    {
     "name": "stderr",
     "output_type": "stream",
     "text": [
      "/home/mdoutreligne/research/causal-ml-course-practical-sessions/.venv/lib/python3.12/site-packages/doubleml/utils/_checks.py:205: UserWarning: Propensity predictions from learner LogisticRegressionCV() for ml_m are close to zero or one (eps=1e-12).\n",
      "  warnings.warn(f'Propensity predictions from learner {str(learner)} for'\n"
     ]
    },
    {
     "name": "stdout",
     "output_type": "stream",
     "text": [
      "\r",
      "Processing: 42.0 %"
     ]
    },
    {
     "name": "stderr",
     "output_type": "stream",
     "text": [
      "/home/mdoutreligne/research/causal-ml-course-practical-sessions/.venv/lib/python3.12/site-packages/doubleml/utils/_checks.py:205: UserWarning: Propensity predictions from learner LogisticRegressionCV() for ml_m are close to zero or one (eps=1e-12).\n",
      "  warnings.warn(f'Propensity predictions from learner {str(learner)} for'\n"
     ]
    },
    {
     "name": "stderr",
     "output_type": "stream",
     "text": [
      "/home/mdoutreligne/research/causal-ml-course-practical-sessions/.venv/lib/python3.12/site-packages/doubleml/utils/_checks.py:205: UserWarning: Propensity predictions from learner LogisticRegressionCV() for ml_m are close to zero or one (eps=1e-12).\n",
      "  warnings.warn(f'Propensity predictions from learner {str(learner)} for'\n"
     ]
    },
    {
     "name": "stdout",
     "output_type": "stream",
     "text": [
      "\r",
      "Processing: 44.0 %"
     ]
    },
    {
     "name": "stderr",
     "output_type": "stream",
     "text": [
      "/home/mdoutreligne/research/causal-ml-course-practical-sessions/.venv/lib/python3.12/site-packages/doubleml/utils/_checks.py:205: UserWarning: Propensity predictions from learner LogisticRegressionCV() for ml_m are close to zero or one (eps=1e-12).\n",
      "  warnings.warn(f'Propensity predictions from learner {str(learner)} for'\n"
     ]
    },
    {
     "name": "stderr",
     "output_type": "stream",
     "text": [
      "/home/mdoutreligne/research/causal-ml-course-practical-sessions/.venv/lib/python3.12/site-packages/doubleml/utils/_checks.py:205: UserWarning: Propensity predictions from learner LogisticRegressionCV() for ml_m are close to zero or one (eps=1e-12).\n",
      "  warnings.warn(f'Propensity predictions from learner {str(learner)} for'\n"
     ]
    },
    {
     "name": "stdout",
     "output_type": "stream",
     "text": [
      "\r",
      "Processing: 46.0 %"
     ]
    },
    {
     "name": "stderr",
     "output_type": "stream",
     "text": [
      "/home/mdoutreligne/research/causal-ml-course-practical-sessions/.venv/lib/python3.12/site-packages/doubleml/utils/_checks.py:205: UserWarning: Propensity predictions from learner LogisticRegressionCV() for ml_m are close to zero or one (eps=1e-12).\n",
      "  warnings.warn(f'Propensity predictions from learner {str(learner)} for'\n"
     ]
    },
    {
     "name": "stderr",
     "output_type": "stream",
     "text": [
      "/home/mdoutreligne/research/causal-ml-course-practical-sessions/.venv/lib/python3.12/site-packages/doubleml/utils/_checks.py:205: UserWarning: Propensity predictions from learner LogisticRegressionCV() for ml_m are close to zero or one (eps=1e-12).\n",
      "  warnings.warn(f'Propensity predictions from learner {str(learner)} for'\n"
     ]
    },
    {
     "name": "stdout",
     "output_type": "stream",
     "text": [
      "\r",
      "Processing: 48.0 %"
     ]
    },
    {
     "name": "stderr",
     "output_type": "stream",
     "text": [
      "/home/mdoutreligne/research/causal-ml-course-practical-sessions/.venv/lib/python3.12/site-packages/doubleml/utils/_checks.py:205: UserWarning: Propensity predictions from learner LogisticRegressionCV() for ml_m are close to zero or one (eps=1e-12).\n",
      "  warnings.warn(f'Propensity predictions from learner {str(learner)} for'\n"
     ]
    },
    {
     "name": "stderr",
     "output_type": "stream",
     "text": [
      "/home/mdoutreligne/research/causal-ml-course-practical-sessions/.venv/lib/python3.12/site-packages/doubleml/utils/_checks.py:205: UserWarning: Propensity predictions from learner LogisticRegressionCV() for ml_m are close to zero or one (eps=1e-12).\n",
      "  warnings.warn(f'Propensity predictions from learner {str(learner)} for'\n"
     ]
    },
    {
     "name": "stdout",
     "output_type": "stream",
     "text": [
      "\r",
      "Processing: 50.0 %"
     ]
    },
    {
     "name": "stderr",
     "output_type": "stream",
     "text": [
      "/home/mdoutreligne/research/causal-ml-course-practical-sessions/.venv/lib/python3.12/site-packages/doubleml/utils/_checks.py:205: UserWarning: Propensity predictions from learner LogisticRegressionCV() for ml_m are close to zero or one (eps=1e-12).\n",
      "  warnings.warn(f'Propensity predictions from learner {str(learner)} for'\n"
     ]
    },
    {
     "name": "stderr",
     "output_type": "stream",
     "text": [
      "/home/mdoutreligne/research/causal-ml-course-practical-sessions/.venv/lib/python3.12/site-packages/doubleml/utils/_checks.py:205: UserWarning: Propensity predictions from learner LogisticRegressionCV() for ml_m are close to zero or one (eps=1e-12).\n",
      "  warnings.warn(f'Propensity predictions from learner {str(learner)} for'\n"
     ]
    },
    {
     "name": "stdout",
     "output_type": "stream",
     "text": [
      "\r",
      "Processing: 52.0 %"
     ]
    },
    {
     "name": "stderr",
     "output_type": "stream",
     "text": [
      "/home/mdoutreligne/research/causal-ml-course-practical-sessions/.venv/lib/python3.12/site-packages/doubleml/utils/_checks.py:205: UserWarning: Propensity predictions from learner LogisticRegressionCV() for ml_m are close to zero or one (eps=1e-12).\n",
      "  warnings.warn(f'Propensity predictions from learner {str(learner)} for'\n"
     ]
    },
    {
     "name": "stderr",
     "output_type": "stream",
     "text": [
      "/home/mdoutreligne/research/causal-ml-course-practical-sessions/.venv/lib/python3.12/site-packages/doubleml/utils/_checks.py:205: UserWarning: Propensity predictions from learner LogisticRegressionCV() for ml_m are close to zero or one (eps=1e-12).\n",
      "  warnings.warn(f'Propensity predictions from learner {str(learner)} for'\n"
     ]
    },
    {
     "name": "stdout",
     "output_type": "stream",
     "text": [
      "\r",
      "Processing: 54.0 %"
     ]
    },
    {
     "name": "stderr",
     "output_type": "stream",
     "text": [
      "/home/mdoutreligne/research/causal-ml-course-practical-sessions/.venv/lib/python3.12/site-packages/doubleml/utils/_checks.py:205: UserWarning: Propensity predictions from learner LogisticRegressionCV() for ml_m are close to zero or one (eps=1e-12).\n",
      "  warnings.warn(f'Propensity predictions from learner {str(learner)} for'\n"
     ]
    },
    {
     "name": "stderr",
     "output_type": "stream",
     "text": [
      "/home/mdoutreligne/research/causal-ml-course-practical-sessions/.venv/lib/python3.12/site-packages/doubleml/utils/_checks.py:205: UserWarning: Propensity predictions from learner LogisticRegressionCV() for ml_m are close to zero or one (eps=1e-12).\n",
      "  warnings.warn(f'Propensity predictions from learner {str(learner)} for'\n"
     ]
    },
    {
     "name": "stdout",
     "output_type": "stream",
     "text": [
      "\r",
      "Processing: 56.0 %"
     ]
    },
    {
     "name": "stderr",
     "output_type": "stream",
     "text": [
      "/home/mdoutreligne/research/causal-ml-course-practical-sessions/.venv/lib/python3.12/site-packages/doubleml/utils/_checks.py:205: UserWarning: Propensity predictions from learner LogisticRegressionCV() for ml_m are close to zero or one (eps=1e-12).\n",
      "  warnings.warn(f'Propensity predictions from learner {str(learner)} for'\n"
     ]
    },
    {
     "name": "stderr",
     "output_type": "stream",
     "text": [
      "/home/mdoutreligne/research/causal-ml-course-practical-sessions/.venv/lib/python3.12/site-packages/doubleml/utils/_checks.py:205: UserWarning: Propensity predictions from learner LogisticRegressionCV() for ml_m are close to zero or one (eps=1e-12).\n",
      "  warnings.warn(f'Propensity predictions from learner {str(learner)} for'\n"
     ]
    },
    {
     "name": "stdout",
     "output_type": "stream",
     "text": [
      "\r",
      "Processing: 58.0 %"
     ]
    },
    {
     "name": "stderr",
     "output_type": "stream",
     "text": [
      "/home/mdoutreligne/research/causal-ml-course-practical-sessions/.venv/lib/python3.12/site-packages/doubleml/utils/_checks.py:205: UserWarning: Propensity predictions from learner LogisticRegressionCV() for ml_m are close to zero or one (eps=1e-12).\n",
      "  warnings.warn(f'Propensity predictions from learner {str(learner)} for'\n"
     ]
    },
    {
     "name": "stderr",
     "output_type": "stream",
     "text": [
      "/home/mdoutreligne/research/causal-ml-course-practical-sessions/.venv/lib/python3.12/site-packages/doubleml/utils/_checks.py:205: UserWarning: Propensity predictions from learner LogisticRegressionCV() for ml_m are close to zero or one (eps=1e-12).\n",
      "  warnings.warn(f'Propensity predictions from learner {str(learner)} for'\n"
     ]
    },
    {
     "name": "stdout",
     "output_type": "stream",
     "text": [
      "\r",
      "Processing: 60.0 %"
     ]
    },
    {
     "name": "stderr",
     "output_type": "stream",
     "text": [
      "/home/mdoutreligne/research/causal-ml-course-practical-sessions/.venv/lib/python3.12/site-packages/doubleml/utils/_checks.py:205: UserWarning: Propensity predictions from learner LogisticRegressionCV() for ml_m are close to zero or one (eps=1e-12).\n",
      "  warnings.warn(f'Propensity predictions from learner {str(learner)} for'\n"
     ]
    },
    {
     "name": "stderr",
     "output_type": "stream",
     "text": [
      "/home/mdoutreligne/research/causal-ml-course-practical-sessions/.venv/lib/python3.12/site-packages/doubleml/utils/_checks.py:205: UserWarning: Propensity predictions from learner LogisticRegressionCV() for ml_m are close to zero or one (eps=1e-12).\n",
      "  warnings.warn(f'Propensity predictions from learner {str(learner)} for'\n"
     ]
    },
    {
     "name": "stdout",
     "output_type": "stream",
     "text": [
      "\r",
      "Processing: 62.0 %"
     ]
    },
    {
     "name": "stderr",
     "output_type": "stream",
     "text": [
      "/home/mdoutreligne/research/causal-ml-course-practical-sessions/.venv/lib/python3.12/site-packages/doubleml/utils/_checks.py:205: UserWarning: Propensity predictions from learner LogisticRegressionCV() for ml_m are close to zero or one (eps=1e-12).\n",
      "  warnings.warn(f'Propensity predictions from learner {str(learner)} for'\n"
     ]
    },
    {
     "name": "stderr",
     "output_type": "stream",
     "text": [
      "/home/mdoutreligne/research/causal-ml-course-practical-sessions/.venv/lib/python3.12/site-packages/doubleml/utils/_checks.py:205: UserWarning: Propensity predictions from learner LogisticRegressionCV() for ml_m are close to zero or one (eps=1e-12).\n",
      "  warnings.warn(f'Propensity predictions from learner {str(learner)} for'\n"
     ]
    },
    {
     "name": "stdout",
     "output_type": "stream",
     "text": [
      "\r",
      "Processing: 64.0 %"
     ]
    },
    {
     "name": "stderr",
     "output_type": "stream",
     "text": [
      "/home/mdoutreligne/research/causal-ml-course-practical-sessions/.venv/lib/python3.12/site-packages/doubleml/utils/_checks.py:205: UserWarning: Propensity predictions from learner LogisticRegressionCV() for ml_m are close to zero or one (eps=1e-12).\n",
      "  warnings.warn(f'Propensity predictions from learner {str(learner)} for'\n"
     ]
    },
    {
     "name": "stderr",
     "output_type": "stream",
     "text": [
      "/home/mdoutreligne/research/causal-ml-course-practical-sessions/.venv/lib/python3.12/site-packages/doubleml/utils/_checks.py:205: UserWarning: Propensity predictions from learner LogisticRegressionCV() for ml_m are close to zero or one (eps=1e-12).\n",
      "  warnings.warn(f'Propensity predictions from learner {str(learner)} for'\n"
     ]
    },
    {
     "name": "stdout",
     "output_type": "stream",
     "text": [
      "\r",
      "Processing: 66.0 %"
     ]
    },
    {
     "name": "stderr",
     "output_type": "stream",
     "text": [
      "/home/mdoutreligne/research/causal-ml-course-practical-sessions/.venv/lib/python3.12/site-packages/doubleml/utils/_checks.py:205: UserWarning: Propensity predictions from learner LogisticRegressionCV() for ml_m are close to zero or one (eps=1e-12).\n",
      "  warnings.warn(f'Propensity predictions from learner {str(learner)} for'\n"
     ]
    },
    {
     "name": "stderr",
     "output_type": "stream",
     "text": [
      "/home/mdoutreligne/research/causal-ml-course-practical-sessions/.venv/lib/python3.12/site-packages/doubleml/utils/_checks.py:205: UserWarning: Propensity predictions from learner LogisticRegressionCV() for ml_m are close to zero or one (eps=1e-12).\n",
      "  warnings.warn(f'Propensity predictions from learner {str(learner)} for'\n"
     ]
    },
    {
     "name": "stdout",
     "output_type": "stream",
     "text": [
      "\r",
      "Processing: 68.0 %"
     ]
    },
    {
     "name": "stderr",
     "output_type": "stream",
     "text": [
      "/home/mdoutreligne/research/causal-ml-course-practical-sessions/.venv/lib/python3.12/site-packages/doubleml/utils/_checks.py:205: UserWarning: Propensity predictions from learner LogisticRegressionCV() for ml_m are close to zero or one (eps=1e-12).\n",
      "  warnings.warn(f'Propensity predictions from learner {str(learner)} for'\n"
     ]
    },
    {
     "name": "stderr",
     "output_type": "stream",
     "text": [
      "/home/mdoutreligne/research/causal-ml-course-practical-sessions/.venv/lib/python3.12/site-packages/doubleml/utils/_checks.py:205: UserWarning: Propensity predictions from learner LogisticRegressionCV() for ml_m are close to zero or one (eps=1e-12).\n",
      "  warnings.warn(f'Propensity predictions from learner {str(learner)} for'\n"
     ]
    },
    {
     "name": "stdout",
     "output_type": "stream",
     "text": [
      "\r",
      "Processing: 70.0 %"
     ]
    },
    {
     "name": "stderr",
     "output_type": "stream",
     "text": [
      "/home/mdoutreligne/research/causal-ml-course-practical-sessions/.venv/lib/python3.12/site-packages/doubleml/utils/_checks.py:205: UserWarning: Propensity predictions from learner LogisticRegressionCV() for ml_m are close to zero or one (eps=1e-12).\n",
      "  warnings.warn(f'Propensity predictions from learner {str(learner)} for'\n"
     ]
    },
    {
     "name": "stderr",
     "output_type": "stream",
     "text": [
      "/home/mdoutreligne/research/causal-ml-course-practical-sessions/.venv/lib/python3.12/site-packages/doubleml/utils/_checks.py:205: UserWarning: Propensity predictions from learner LogisticRegressionCV() for ml_m are close to zero or one (eps=1e-12).\n",
      "  warnings.warn(f'Propensity predictions from learner {str(learner)} for'\n"
     ]
    },
    {
     "name": "stdout",
     "output_type": "stream",
     "text": [
      "\r",
      "Processing: 72.0 %"
     ]
    },
    {
     "name": "stderr",
     "output_type": "stream",
     "text": [
      "/home/mdoutreligne/research/causal-ml-course-practical-sessions/.venv/lib/python3.12/site-packages/doubleml/utils/_checks.py:205: UserWarning: Propensity predictions from learner LogisticRegressionCV() for ml_m are close to zero or one (eps=1e-12).\n",
      "  warnings.warn(f'Propensity predictions from learner {str(learner)} for'\n"
     ]
    },
    {
     "name": "stderr",
     "output_type": "stream",
     "text": [
      "/home/mdoutreligne/research/causal-ml-course-practical-sessions/.venv/lib/python3.12/site-packages/doubleml/utils/_checks.py:205: UserWarning: Propensity predictions from learner LogisticRegressionCV() for ml_m are close to zero or one (eps=1e-12).\n",
      "  warnings.warn(f'Propensity predictions from learner {str(learner)} for'\n"
     ]
    },
    {
     "name": "stdout",
     "output_type": "stream",
     "text": [
      "\r",
      "Processing: 74.0 %"
     ]
    },
    {
     "name": "stderr",
     "output_type": "stream",
     "text": [
      "/home/mdoutreligne/research/causal-ml-course-practical-sessions/.venv/lib/python3.12/site-packages/doubleml/utils/_checks.py:205: UserWarning: Propensity predictions from learner LogisticRegressionCV() for ml_m are close to zero or one (eps=1e-12).\n",
      "  warnings.warn(f'Propensity predictions from learner {str(learner)} for'\n"
     ]
    },
    {
     "name": "stderr",
     "output_type": "stream",
     "text": [
      "/home/mdoutreligne/research/causal-ml-course-practical-sessions/.venv/lib/python3.12/site-packages/doubleml/utils/_checks.py:205: UserWarning: Propensity predictions from learner LogisticRegressionCV() for ml_m are close to zero or one (eps=1e-12).\n",
      "  warnings.warn(f'Propensity predictions from learner {str(learner)} for'\n"
     ]
    },
    {
     "name": "stdout",
     "output_type": "stream",
     "text": [
      "\r",
      "Processing: 76.0 %"
     ]
    },
    {
     "name": "stderr",
     "output_type": "stream",
     "text": [
      "/home/mdoutreligne/research/causal-ml-course-practical-sessions/.venv/lib/python3.12/site-packages/doubleml/utils/_checks.py:205: UserWarning: Propensity predictions from learner LogisticRegressionCV() for ml_m are close to zero or one (eps=1e-12).\n",
      "  warnings.warn(f'Propensity predictions from learner {str(learner)} for'\n"
     ]
    },
    {
     "name": "stderr",
     "output_type": "stream",
     "text": [
      "/home/mdoutreligne/research/causal-ml-course-practical-sessions/.venv/lib/python3.12/site-packages/doubleml/utils/_checks.py:205: UserWarning: Propensity predictions from learner LogisticRegressionCV() for ml_m are close to zero or one (eps=1e-12).\n",
      "  warnings.warn(f'Propensity predictions from learner {str(learner)} for'\n"
     ]
    },
    {
     "name": "stdout",
     "output_type": "stream",
     "text": [
      "\r",
      "Processing: 78.0 %"
     ]
    },
    {
     "name": "stderr",
     "output_type": "stream",
     "text": [
      "/home/mdoutreligne/research/causal-ml-course-practical-sessions/.venv/lib/python3.12/site-packages/doubleml/utils/_checks.py:205: UserWarning: Propensity predictions from learner LogisticRegressionCV() for ml_m are close to zero or one (eps=1e-12).\n",
      "  warnings.warn(f'Propensity predictions from learner {str(learner)} for'\n"
     ]
    },
    {
     "name": "stderr",
     "output_type": "stream",
     "text": [
      "/home/mdoutreligne/research/causal-ml-course-practical-sessions/.venv/lib/python3.12/site-packages/doubleml/utils/_checks.py:205: UserWarning: Propensity predictions from learner LogisticRegressionCV() for ml_m are close to zero or one (eps=1e-12).\n",
      "  warnings.warn(f'Propensity predictions from learner {str(learner)} for'\n"
     ]
    },
    {
     "name": "stdout",
     "output_type": "stream",
     "text": [
      "\r",
      "Processing: 80.0 %"
     ]
    },
    {
     "name": "stderr",
     "output_type": "stream",
     "text": [
      "/home/mdoutreligne/research/causal-ml-course-practical-sessions/.venv/lib/python3.12/site-packages/doubleml/utils/_checks.py:205: UserWarning: Propensity predictions from learner LogisticRegressionCV() for ml_m are close to zero or one (eps=1e-12).\n",
      "  warnings.warn(f'Propensity predictions from learner {str(learner)} for'\n"
     ]
    },
    {
     "name": "stderr",
     "output_type": "stream",
     "text": [
      "/home/mdoutreligne/research/causal-ml-course-practical-sessions/.venv/lib/python3.12/site-packages/doubleml/utils/_checks.py:205: UserWarning: Propensity predictions from learner LogisticRegressionCV() for ml_m are close to zero or one (eps=1e-12).\n",
      "  warnings.warn(f'Propensity predictions from learner {str(learner)} for'\n"
     ]
    },
    {
     "name": "stdout",
     "output_type": "stream",
     "text": [
      "\r",
      "Processing: 82.0 %"
     ]
    },
    {
     "name": "stderr",
     "output_type": "stream",
     "text": [
      "/home/mdoutreligne/research/causal-ml-course-practical-sessions/.venv/lib/python3.12/site-packages/doubleml/utils/_checks.py:205: UserWarning: Propensity predictions from learner LogisticRegressionCV() for ml_m are close to zero or one (eps=1e-12).\n",
      "  warnings.warn(f'Propensity predictions from learner {str(learner)} for'\n"
     ]
    },
    {
     "name": "stderr",
     "output_type": "stream",
     "text": [
      "/home/mdoutreligne/research/causal-ml-course-practical-sessions/.venv/lib/python3.12/site-packages/doubleml/utils/_checks.py:205: UserWarning: Propensity predictions from learner LogisticRegressionCV() for ml_m are close to zero or one (eps=1e-12).\n",
      "  warnings.warn(f'Propensity predictions from learner {str(learner)} for'\n"
     ]
    },
    {
     "name": "stdout",
     "output_type": "stream",
     "text": [
      "\r",
      "Processing: 84.0 %"
     ]
    },
    {
     "name": "stderr",
     "output_type": "stream",
     "text": [
      "/home/mdoutreligne/research/causal-ml-course-practical-sessions/.venv/lib/python3.12/site-packages/doubleml/utils/_checks.py:205: UserWarning: Propensity predictions from learner LogisticRegressionCV() for ml_m are close to zero or one (eps=1e-12).\n",
      "  warnings.warn(f'Propensity predictions from learner {str(learner)} for'\n"
     ]
    },
    {
     "name": "stderr",
     "output_type": "stream",
     "text": [
      "/home/mdoutreligne/research/causal-ml-course-practical-sessions/.venv/lib/python3.12/site-packages/doubleml/utils/_checks.py:205: UserWarning: Propensity predictions from learner LogisticRegressionCV() for ml_m are close to zero or one (eps=1e-12).\n",
      "  warnings.warn(f'Propensity predictions from learner {str(learner)} for'\n"
     ]
    },
    {
     "name": "stdout",
     "output_type": "stream",
     "text": [
      "\r",
      "Processing: 86.0 %"
     ]
    },
    {
     "name": "stderr",
     "output_type": "stream",
     "text": [
      "/home/mdoutreligne/research/causal-ml-course-practical-sessions/.venv/lib/python3.12/site-packages/doubleml/utils/_checks.py:205: UserWarning: Propensity predictions from learner LogisticRegressionCV() for ml_m are close to zero or one (eps=1e-12).\n",
      "  warnings.warn(f'Propensity predictions from learner {str(learner)} for'\n"
     ]
    },
    {
     "name": "stderr",
     "output_type": "stream",
     "text": [
      "/home/mdoutreligne/research/causal-ml-course-practical-sessions/.venv/lib/python3.12/site-packages/doubleml/utils/_checks.py:205: UserWarning: Propensity predictions from learner LogisticRegressionCV() for ml_m are close to zero or one (eps=1e-12).\n",
      "  warnings.warn(f'Propensity predictions from learner {str(learner)} for'\n"
     ]
    },
    {
     "name": "stdout",
     "output_type": "stream",
     "text": [
      "\r",
      "Processing: 88.0 %"
     ]
    },
    {
     "name": "stderr",
     "output_type": "stream",
     "text": [
      "/home/mdoutreligne/research/causal-ml-course-practical-sessions/.venv/lib/python3.12/site-packages/doubleml/utils/_checks.py:205: UserWarning: Propensity predictions from learner LogisticRegressionCV() for ml_m are close to zero or one (eps=1e-12).\n",
      "  warnings.warn(f'Propensity predictions from learner {str(learner)} for'\n"
     ]
    },
    {
     "name": "stderr",
     "output_type": "stream",
     "text": [
      "/home/mdoutreligne/research/causal-ml-course-practical-sessions/.venv/lib/python3.12/site-packages/doubleml/utils/_checks.py:205: UserWarning: Propensity predictions from learner LogisticRegressionCV() for ml_m are close to zero or one (eps=1e-12).\n",
      "  warnings.warn(f'Propensity predictions from learner {str(learner)} for'\n"
     ]
    },
    {
     "name": "stdout",
     "output_type": "stream",
     "text": [
      "\r",
      "Processing: 90.0 %"
     ]
    },
    {
     "name": "stderr",
     "output_type": "stream",
     "text": [
      "/home/mdoutreligne/research/causal-ml-course-practical-sessions/.venv/lib/python3.12/site-packages/doubleml/utils/_checks.py:205: UserWarning: Propensity predictions from learner LogisticRegressionCV() for ml_m are close to zero or one (eps=1e-12).\n",
      "  warnings.warn(f'Propensity predictions from learner {str(learner)} for'\n"
     ]
    },
    {
     "name": "stderr",
     "output_type": "stream",
     "text": [
      "/home/mdoutreligne/research/causal-ml-course-practical-sessions/.venv/lib/python3.12/site-packages/doubleml/utils/_checks.py:205: UserWarning: Propensity predictions from learner LogisticRegressionCV() for ml_m are close to zero or one (eps=1e-12).\n",
      "  warnings.warn(f'Propensity predictions from learner {str(learner)} for'\n"
     ]
    },
    {
     "name": "stdout",
     "output_type": "stream",
     "text": [
      "\r",
      "Processing: 92.0 %"
     ]
    },
    {
     "name": "stderr",
     "output_type": "stream",
     "text": [
      "/home/mdoutreligne/research/causal-ml-course-practical-sessions/.venv/lib/python3.12/site-packages/doubleml/utils/_checks.py:205: UserWarning: Propensity predictions from learner LogisticRegressionCV() for ml_m are close to zero or one (eps=1e-12).\n",
      "  warnings.warn(f'Propensity predictions from learner {str(learner)} for'\n"
     ]
    },
    {
     "name": "stderr",
     "output_type": "stream",
     "text": [
      "/home/mdoutreligne/research/causal-ml-course-practical-sessions/.venv/lib/python3.12/site-packages/doubleml/utils/_checks.py:205: UserWarning: Propensity predictions from learner LogisticRegressionCV() for ml_m are close to zero or one (eps=1e-12).\n",
      "  warnings.warn(f'Propensity predictions from learner {str(learner)} for'\n"
     ]
    },
    {
     "name": "stdout",
     "output_type": "stream",
     "text": [
      "\r",
      "Processing: 94.0 %"
     ]
    },
    {
     "name": "stderr",
     "output_type": "stream",
     "text": [
      "/home/mdoutreligne/research/causal-ml-course-practical-sessions/.venv/lib/python3.12/site-packages/doubleml/utils/_checks.py:205: UserWarning: Propensity predictions from learner LogisticRegressionCV() for ml_m are close to zero or one (eps=1e-12).\n",
      "  warnings.warn(f'Propensity predictions from learner {str(learner)} for'\n"
     ]
    },
    {
     "name": "stderr",
     "output_type": "stream",
     "text": [
      "/home/mdoutreligne/research/causal-ml-course-practical-sessions/.venv/lib/python3.12/site-packages/doubleml/utils/_checks.py:205: UserWarning: Propensity predictions from learner LogisticRegressionCV() for ml_m are close to zero or one (eps=1e-12).\n",
      "  warnings.warn(f'Propensity predictions from learner {str(learner)} for'\n"
     ]
    },
    {
     "name": "stdout",
     "output_type": "stream",
     "text": [
      "\r",
      "Processing: 96.0 %"
     ]
    },
    {
     "name": "stderr",
     "output_type": "stream",
     "text": [
      "/home/mdoutreligne/research/causal-ml-course-practical-sessions/.venv/lib/python3.12/site-packages/doubleml/utils/_checks.py:205: UserWarning: Propensity predictions from learner LogisticRegressionCV() for ml_m are close to zero or one (eps=1e-12).\n",
      "  warnings.warn(f'Propensity predictions from learner {str(learner)} for'\n"
     ]
    },
    {
     "name": "stderr",
     "output_type": "stream",
     "text": [
      "/home/mdoutreligne/research/causal-ml-course-practical-sessions/.venv/lib/python3.12/site-packages/doubleml/utils/_checks.py:205: UserWarning: Propensity predictions from learner LogisticRegressionCV() for ml_m are close to zero or one (eps=1e-12).\n",
      "  warnings.warn(f'Propensity predictions from learner {str(learner)} for'\n"
     ]
    },
    {
     "name": "stdout",
     "output_type": "stream",
     "text": [
      "\r",
      "Processing: 98.0 %"
     ]
    },
    {
     "name": "stderr",
     "output_type": "stream",
     "text": [
      "/home/mdoutreligne/research/causal-ml-course-practical-sessions/.venv/lib/python3.12/site-packages/doubleml/utils/_checks.py:205: UserWarning: Propensity predictions from learner LogisticRegressionCV() for ml_m are close to zero or one (eps=1e-12).\n",
      "  warnings.warn(f'Propensity predictions from learner {str(learner)} for'\n"
     ]
    },
    {
     "name": "stderr",
     "output_type": "stream",
     "text": [
      "/home/mdoutreligne/research/causal-ml-course-practical-sessions/.venv/lib/python3.12/site-packages/doubleml/utils/_checks.py:205: UserWarning: Propensity predictions from learner LogisticRegressionCV() for ml_m are close to zero or one (eps=1e-12).\n",
      "  warnings.warn(f'Propensity predictions from learner {str(learner)} for'\n"
     ]
    },
    {
     "name": "stdout",
     "output_type": "stream",
     "text": [
      "\r",
      "Processing: 100.0 %"
     ]
    },
    {
     "name": "stderr",
     "output_type": "stream",
     "text": [
      "/home/mdoutreligne/research/causal-ml-course-practical-sessions/.venv/lib/python3.12/site-packages/doubleml/utils/_checks.py:205: UserWarning: Propensity predictions from learner LogisticRegressionCV() for ml_m are close to zero or one (eps=1e-12).\n",
      "  warnings.warn(f'Propensity predictions from learner {str(learner)} for'\n"
     ]
    },
    {
     "name": "stderr",
     "output_type": "stream",
     "text": [
      "/home/mdoutreligne/research/causal-ml-course-practical-sessions/.venv/lib/python3.12/site-packages/doubleml/utils/_checks.py:205: UserWarning: Propensity predictions from learner LogisticRegressionCV() for ml_m are close to zero or one (eps=1e-12).\n",
      "  warnings.warn(f'Propensity predictions from learner {str(learner)} for'\n"
     ]
    }
   ],
   "source": [
    "from doubleml.utils import DoubleMLResampling\n",
    "\n",
    "coefs = np.full(shape=(n_rep, len(learner_list)), fill_value=np.nan)\n",
    "loss_ml_m = np.full(shape=(n_rep, len(learner_list)), fill_value=np.nan)\n",
    "loss_ml_l = np.full(shape=(n_rep, len(learner_list)), fill_value=np.nan)\n",
    "\n",
    "coverage = np.full(shape=(n_rep, len(learner_list)), fill_value=np.nan)\n",
    "\n",
    "for i_rep in range(n_rep):\n",
    "    print(f\"\\rProcessing: {round((i_rep+1)/n_rep*100, 3)} %\", end=\"\")\n",
    "    dml_data = datasets[i_rep]\n",
    "    # define the sample splitting\n",
    "    smpls = DoubleMLResampling(\n",
    "        n_folds=5, n_rep=1, n_obs=n_obs, stratify=dml_data.d\n",
    "    ).split_samples()\n",
    "\n",
    "    for i_learners, learners in enumerate(learner_list):\n",
    "        np.random.seed(42)\n",
    "        dml_plm = dml.DoubleMLPLR(\n",
    "            obj_dml_data=dml_data,\n",
    "            ml_l=clone(learners[\"ml_l\"]),\n",
    "            ml_m=clone(learners[\"ml_m\"]),\n",
    "            draw_sample_splitting=False,\n",
    "        )\n",
    "        dml_plm.set_sample_splitting(smpls)\n",
    "        dml_plm.fit(n_jobs_cv=5)\n",
    "\n",
    "        coefs[i_rep, i_learners] = dml_plm.coef[0]\n",
    "        loss_ml_m[i_rep, i_learners] = dml_plm.nuisance_loss[\"ml_m\"][0][0]\n",
    "        loss_ml_l[i_rep, i_learners] = dml_plm.nuisance_loss[\"ml_l\"][0][0]\n",
    "\n",
    "        confint = dml_plm.confint()\n",
    "        coverage[i_rep, i_learners] = (confint[\"2.5 %\"].iloc[0] <= theta) & (\n",
    "            confint[\"97.5 %\"].iloc[0] >= theta\n",
    "        )"
   ]
  },
  {
   "cell_type": "code",
   "execution_count": 5,
   "id": "e7621813",
   "metadata": {
    "execution": {
     "iopub.execute_input": "2025-02-19T14:05:19.270593Z",
     "iopub.status.busy": "2025-02-19T14:05:19.269925Z",
     "iopub.status.idle": "2025-02-19T14:05:19.275835Z",
     "shell.execute_reply": "2025-02-19T14:05:19.275277Z"
    }
   },
   "outputs": [
    {
     "name": "stdout",
     "output_type": "stream",
     "text": [
      "\n",
      "Coverage: Linear + Logistic      0.92\n",
      "Boosting + Logistic    0.94\n",
      "Linear + Boosting      0.60\n",
      "Boosting + Boosting    0.62\n",
      "dtype: float64\n"
     ]
    }
   ],
   "source": [
    "colnames = []\n",
    "for learner in learner_list:\n",
    "    l_name = re.sub('Regressor|Regression|CV|Gradient', '', learner['ml_l'].__class__.__name__)\n",
    "    m_name = re.sub('Classifier|CV|Regression|Gradient', '', learner['ml_m'].__class__.__name__)\n",
    "    colnames.append(f\"{l_name} + {m_name}\")\n",
    "\n",
    "coverage_df = pd.DataFrame(coverage, columns=colnames)\n",
    "print(f\"\\nCoverage: {coverage_df.mean(0)}\")"
   ]
  },
  {
   "cell_type": "markdown",
   "id": "5af4ff59",
   "metadata": {},
   "source": [
    "Next, let us take a look at the corresponding results."
   ]
  },
  {
   "cell_type": "code",
   "execution_count": 6,
   "id": "edf07098",
   "metadata": {
    "execution": {
     "iopub.execute_input": "2025-02-19T14:05:19.277455Z",
     "iopub.status.busy": "2025-02-19T14:05:19.277139Z",
     "iopub.status.idle": "2025-02-19T14:05:19.280489Z",
     "shell.execute_reply": "2025-02-19T14:05:19.279940Z"
    }
   },
   "outputs": [],
   "source": [
    "\n",
    "df_coefs = pd.DataFrame(coefs, columns=colnames)\n",
    "df_ml_m = pd.DataFrame(loss_ml_m, columns=colnames)\n",
    "df_ml_l = pd.DataFrame(loss_ml_l, columns=colnames)"
   ]
  },
  {
   "cell_type": "code",
   "execution_count": 7,
   "id": "e5a025f8",
   "metadata": {
    "execution": {
     "iopub.execute_input": "2025-02-19T14:05:19.282118Z",
     "iopub.status.busy": "2025-02-19T14:05:19.281849Z",
     "iopub.status.idle": "2025-02-19T14:05:20.006173Z",
     "shell.execute_reply": "2025-02-19T14:05:20.005415Z"
    }
   },
   "outputs": [
    {
     "data": {
      "image/png": "[encoded data removed]",
      "text/plain": [
       "<Figure size 1500x500 with 4 Axes>"
      ]
     },
     "metadata": {},
     "output_type": "display_data"
    }
   ],
   "source": [
    "import seaborn as sns\n",
    "import matplotlib.pyplot as plt\n",
    "\n",
    "fig, axes = plt.subplots(2, 2, figsize=(15, 5))\n",
    "fig.suptitle(\"Learner Comparison\")\n",
    "\n",
    "sns.kdeplot(data=df_coefs, ax=axes[0][0], fill=True, alpha=0.3)\n",
    "sns.kdeplot(data=df_ml_m, ax=axes[0][1], fill=True, alpha=0.3, legend=False)\n",
    "sns.kdeplot(data=df_ml_l, ax=axes[1][0], fill=True, alpha=0.3, legend=False)\n",
    "\n",
    "axes[0][0].title.set_text(\"Estimated Parameter\")\n",
    "# axes[0][0].set_xlim(-10, 10)\n",
    "axes[0][1].title.set_text(\"Log Loss ml_m\")\n",
    "axes[1][0].title.set_text(\"RMSE ml_l\")\n",
    "\n",
    "plt.subplots_adjust(left=0.1, bottom=0.1, right=0.9, top=0.9, wspace=0.4, hspace=0.4)\n",
    "plt.show()"
   ]
  },
  {
   "cell_type": "markdown",
   "id": "bd8863cc",
   "metadata": {
    "lines_to_next_cell": 0
   },
   "source": [
    "### 📝 TODO For which combination of the nuisance learners are some of the coefficients are way greater than others? Can you explain why there are these outliers ? "
   ]
  },
  {
   "cell_type": "code",
   "execution_count": 8,
   "id": "2b2328d7",
   "metadata": {
    "execution": {
     "iopub.execute_input": "2025-02-19T14:05:20.008293Z",
     "iopub.status.busy": "2025-02-19T14:05:20.007898Z",
     "iopub.status.idle": "2025-02-19T14:05:20.011269Z",
     "shell.execute_reply": "2025-02-19T14:05:20.010772Z"
    },
    "lines_to_next_cell": 0
   },
   "outputs": [],
   "source": [
    "mask_high_coefs =(df_coefs > 100).any(axis=1)"
   ]
  },
  {
   "cell_type": "markdown",
   "id": "a25bd98c",
   "metadata": {
    "lines_to_next_cell": 0
   },
   "source": [
    "Some coefficients are extreme, only for the experiments with a boosting model for the treatment assignment. These extrem values are probably due to extrem values of the predicted probability to be treated: either too close from 0 or from 1. Such extrem values leads to instability in the coefficient estimation. Indead, remember that the coefficient for the PLM is: \n",
    "$$\\hat{\\beta} = \\frac{\\mathbb E[(Y - \\hat{l}(X))(D-\\hat{m}(X))]}{\\mathbb E[(D-\\hat{m}(X))^2]}$$"
   ]
  },
  {
   "cell_type": "markdown",
   "id": "5615d428",
   "metadata": {
    "lines_to_next_cell": 0
   },
   "source": [
    "We can now easily observe that in this setting, the linear learners are able to approximate the corresponding nuisance functions better than the boosting algorithm (as should be expected since the data is generated accordingly).\n",
    "\n",
    "Let us take a look at what would have happend if for each repetition, we would have selected the combination of learners with the smallest out-of-sample loss (in our example this corresponds to minimizing the product of losses)."
   ]
  },
  {
   "cell_type": "code",
   "execution_count": 9,
   "id": "4c23474a",
   "metadata": {
    "execution": {
     "iopub.execute_input": "2025-02-19T14:05:20.012911Z",
     "iopub.status.busy": "2025-02-19T14:05:20.012771Z",
     "iopub.status.idle": "2025-02-19T14:05:20.016717Z",
     "shell.execute_reply": "2025-02-19T14:05:20.016257Z"
    }
   },
   "outputs": [
    {
     "data": {
      "text/plain": [
       "(array([0, 2]), array([19, 31]))"
      ]
     },
     "execution_count": 9,
     "metadata": {},
     "output_type": "execute_result"
    }
   ],
   "source": [
    "selected_learners = (loss_ml_m * (loss_ml_l)).argmin(axis=1)\n",
    "np.unique(selected_learners, return_counts=True)"
   ]
  },
  {
   "cell_type": "markdown",
   "id": "e672deb0",
   "metadata": {},
   "source": [
    "Let us compare which learners, how the estimated coefficients would have performed with the selected learners."
   ]
  },
  {
   "cell_type": "code",
   "execution_count": 10,
   "id": "a5f783dd",
   "metadata": {
    "execution": {
     "iopub.execute_input": "2025-02-19T14:05:20.018441Z",
     "iopub.status.busy": "2025-02-19T14:05:20.018094Z",
     "iopub.status.idle": "2025-02-19T14:05:20.164048Z",
     "shell.execute_reply": "2025-02-19T14:05:20.163241Z"
    }
   },
   "outputs": [
    {
     "name": "stdout",
     "output_type": "stream",
     "text": [
      "Coverage of selected learners: 0.78\n"
     ]
    },
    {
     "data": {
      "image/png": "[encoded data removed]",
      "text/plain": [
       "<Figure size 640x480 with 1 Axes>"
      ]
     },
     "metadata": {},
     "output_type": "display_data"
    }
   ],
   "source": [
    "print(\n",
    "    f\"Coverage of selected learners: {np.mean(np.array([coverage[i_rep, selected_learners[i_rep]] for i_rep in range(n_rep)]))}\"\n",
    ")\n",
    "\n",
    "selected_coefs = np.array(\n",
    "    [coefs[i_rep, selected_learners[i_rep]] for i_rep in range(n_rep)]\n",
    ")\n",
    "df_coefs[\"Selected\"] = selected_coefs\n",
    "sns.kdeplot(data=df_coefs, fill=True, alpha=0.3)\n",
    "plt.show()"
   ]
  },
  {
   "cell_type": "markdown",
   "id": "2ae4e9e8",
   "metadata": {
    "lines_to_next_cell": 0
   },
   "source": [
    "This procedure will be generally valid as long as we do not compare a excessively large number of different learners.\n",
    "### Non-linear PLM\n",
    "### 📝 TODO Repeat this procedure for a non-linear data generation process."
   ]
  },
  {
   "cell_type": "code",
   "execution_count": 11,
   "id": "cdc940a1",
   "metadata": {
    "execution": {
     "iopub.execute_input": "2025-02-19T14:05:20.165759Z",
     "iopub.status.busy": "2025-02-19T14:05:20.165596Z",
     "iopub.status.idle": "2025-02-19T14:05:20.258655Z",
     "shell.execute_reply": "2025-02-19T14:05:20.257995Z"
    },
    "lines_to_next_cell": 0
   },
   "outputs": [],
   "source": [
    "theta = 0\n",
    "n_obs = 500\n",
    "dim_x = 5\n",
    "n_rep = 50\n",
    "\n",
    "np.random.seed(42)\n",
    "datasets_non_linear = []\n",
    "for i in range(n_rep):\n",
    "    data = make_plr_CCDDHNR2018(\n",
    "        theta=theta,\n",
    "        n_obs=n_obs,\n",
    "        dim_x=dim_x,\n",
    "        R2_d=0.8,\n",
    "        R2_y=0.8,\n",
    "        a_0=1,\n",
    "        a_1=1,\n",
    "        s_1=0.5,\n",
    "        b_0=1,\n",
    "        return_type=\"DataFrame\",\n",
    "    )\n",
    "    data[\"d\"] = (data[\"d\"] >= 0.5).astype(int)\n",
    "    datasets_non_linear.append(dml.DoubleMLData(data, \"y\", \"d\"))"
   ]
  },
  {
   "cell_type": "code",
   "execution_count": 12,
   "id": "7751d386",
   "metadata": {
    "execution": {
     "iopub.execute_input": "2025-02-19T14:05:20.261197Z",
     "iopub.status.busy": "2025-02-19T14:05:20.261048Z",
     "iopub.status.idle": "2025-02-19T14:06:07.184886Z",
     "shell.execute_reply": "2025-02-19T14:06:07.184186Z"
    },
    "lines_to_next_cell": 0
   },
   "outputs": [
    {
     "name": "stdout",
     "output_type": "stream",
     "text": [
      "\r",
      "Processing: 2.0 %"
     ]
    },
    {
     "name": "stdout",
     "output_type": "stream",
     "text": [
      "\r",
      "Processing: 4.0 %"
     ]
    },
    {
     "name": "stdout",
     "output_type": "stream",
     "text": [
      "\r",
      "Processing: 6.0 %"
     ]
    },
    {
     "name": "stdout",
     "output_type": "stream",
     "text": [
      "\r",
      "Processing: 8.0 %"
     ]
    },
    {
     "name": "stdout",
     "output_type": "stream",
     "text": [
      "\r",
      "Processing: 10.0 %"
     ]
    },
    {
     "name": "stdout",
     "output_type": "stream",
     "text": [
      "\r",
      "Processing: 12.0 %"
     ]
    },
    {
     "name": "stdout",
     "output_type": "stream",
     "text": [
      "\r",
      "Processing: 14.0 %"
     ]
    },
    {
     "name": "stdout",
     "output_type": "stream",
     "text": [
      "\r",
      "Processing: 16.0 %"
     ]
    },
    {
     "name": "stdout",
     "output_type": "stream",
     "text": [
      "\r",
      "Processing: 18.0 %"
     ]
    },
    {
     "name": "stdout",
     "output_type": "stream",
     "text": [
      "\r",
      "Processing: 20.0 %"
     ]
    },
    {
     "name": "stdout",
     "output_type": "stream",
     "text": [
      "\r",
      "Processing: 22.0 %"
     ]
    },
    {
     "name": "stdout",
     "output_type": "stream",
     "text": [
      "\r",
      "Processing: 24.0 %"
     ]
    },
    {
     "name": "stdout",
     "output_type": "stream",
     "text": [
      "\r",
      "Processing: 26.0 %"
     ]
    },
    {
     "name": "stdout",
     "output_type": "stream",
     "text": [
      "\r",
      "Processing: 28.0 %"
     ]
    },
    {
     "name": "stdout",
     "output_type": "stream",
     "text": [
      "\r",
      "Processing: 30.0 %"
     ]
    },
    {
     "name": "stdout",
     "output_type": "stream",
     "text": [
      "\r",
      "Processing: 32.0 %"
     ]
    },
    {
     "name": "stdout",
     "output_type": "stream",
     "text": [
      "\r",
      "Processing: 34.0 %"
     ]
    },
    {
     "name": "stdout",
     "output_type": "stream",
     "text": [
      "\r",
      "Processing: 36.0 %"
     ]
    },
    {
     "name": "stdout",
     "output_type": "stream",
     "text": [
      "\r",
      "Processing: 38.0 %"
     ]
    },
    {
     "name": "stdout",
     "output_type": "stream",
     "text": [
      "\r",
      "Processing: 40.0 %"
     ]
    },
    {
     "name": "stdout",
     "output_type": "stream",
     "text": [
      "\r",
      "Processing: 42.0 %"
     ]
    },
    {
     "name": "stdout",
     "output_type": "stream",
     "text": [
      "\r",
      "Processing: 44.0 %"
     ]
    },
    {
     "name": "stdout",
     "output_type": "stream",
     "text": [
      "\r",
      "Processing: 46.0 %"
     ]
    },
    {
     "name": "stdout",
     "output_type": "stream",
     "text": [
      "\r",
      "Processing: 48.0 %"
     ]
    },
    {
     "name": "stdout",
     "output_type": "stream",
     "text": [
      "\r",
      "Processing: 50.0 %"
     ]
    },
    {
     "name": "stdout",
     "output_type": "stream",
     "text": [
      "\r",
      "Processing: 52.0 %"
     ]
    },
    {
     "name": "stdout",
     "output_type": "stream",
     "text": [
      "\r",
      "Processing: 54.0 %"
     ]
    },
    {
     "name": "stdout",
     "output_type": "stream",
     "text": [
      "\r",
      "Processing: 56.0 %"
     ]
    },
    {
     "name": "stdout",
     "output_type": "stream",
     "text": [
      "\r",
      "Processing: 58.0 %"
     ]
    },
    {
     "name": "stdout",
     "output_type": "stream",
     "text": [
      "\r",
      "Processing: 60.0 %"
     ]
    },
    {
     "name": "stdout",
     "output_type": "stream",
     "text": [
      "\r",
      "Processing: 62.0 %"
     ]
    },
    {
     "name": "stdout",
     "output_type": "stream",
     "text": [
      "\r",
      "Processing: 64.0 %"
     ]
    },
    {
     "name": "stdout",
     "output_type": "stream",
     "text": [
      "\r",
      "Processing: 66.0 %"
     ]
    },
    {
     "name": "stdout",
     "output_type": "stream",
     "text": [
      "\r",
      "Processing: 68.0 %"
     ]
    },
    {
     "name": "stdout",
     "output_type": "stream",
     "text": [
      "\r",
      "Processing: 70.0 %"
     ]
    },
    {
     "name": "stdout",
     "output_type": "stream",
     "text": [
      "\r",
      "Processing: 72.0 %"
     ]
    },
    {
     "name": "stdout",
     "output_type": "stream",
     "text": [
      "\r",
      "Processing: 74.0 %"
     ]
    },
    {
     "name": "stdout",
     "output_type": "stream",
     "text": [
      "\r",
      "Processing: 76.0 %"
     ]
    },
    {
     "name": "stdout",
     "output_type": "stream",
     "text": [
      "\r",
      "Processing: 78.0 %"
     ]
    },
    {
     "name": "stdout",
     "output_type": "stream",
     "text": [
      "\r",
      "Processing: 80.0 %"
     ]
    },
    {
     "name": "stdout",
     "output_type": "stream",
     "text": [
      "\r",
      "Processing: 82.0 %"
     ]
    },
    {
     "name": "stdout",
     "output_type": "stream",
     "text": [
      "\r",
      "Processing: 84.0 %"
     ]
    },
    {
     "name": "stdout",
     "output_type": "stream",
     "text": [
      "\r",
      "Processing: 86.0 %"
     ]
    },
    {
     "name": "stdout",
     "output_type": "stream",
     "text": [
      "\r",
      "Processing: 88.0 %"
     ]
    },
    {
     "name": "stdout",
     "output_type": "stream",
     "text": [
      "\r",
      "Processing: 90.0 %"
     ]
    },
    {
     "name": "stdout",
     "output_type": "stream",
     "text": [
      "\r",
      "Processing: 92.0 %"
     ]
    },
    {
     "name": "stdout",
     "output_type": "stream",
     "text": [
      "\r",
      "Processing: 94.0 %"
     ]
    },
    {
     "name": "stdout",
     "output_type": "stream",
     "text": [
      "\r",
      "Processing: 96.0 %"
     ]
    },
    {
     "name": "stdout",
     "output_type": "stream",
     "text": [
      "\r",
      "Processing: 98.0 %"
     ]
    },
    {
     "name": "stdout",
     "output_type": "stream",
     "text": [
      "\r",
      "Processing: 100.0 %"
     ]
    }
   ],
   "source": [
    "from doubleml.utils import DoubleMLResampling\n",
    "\n",
    "coefs = np.full(shape=(n_rep, len(learner_list)), fill_value=np.nan)\n",
    "loss_ml_m = np.full(shape=(n_rep, len(learner_list)), fill_value=np.nan)\n",
    "loss_ml_l = np.full(shape=(n_rep, len(learner_list)), fill_value=np.nan)\n",
    "\n",
    "coverage = np.full(shape=(n_rep, len(learner_list)), fill_value=np.nan)\n",
    "\n",
    "for i_rep in range(n_rep):\n",
    "    print(f\"\\rProcessing: {round((i_rep+1)/n_rep*100, 3)} %\", end=\"\")\n",
    "    dml_data = datasets_non_linear[i_rep]\n",
    "    # define the sample splitting\n",
    "    smpls = DoubleMLResampling(\n",
    "        n_folds=5, n_rep=1, n_obs=n_obs, stratify=dml_data.d\n",
    "    ).split_samples()\n",
    "\n",
    "    for i_learners, learners in enumerate(learner_list):\n",
    "        np.random.seed(42)\n",
    "        dml_plm = dml.DoubleMLPLR(\n",
    "            obj_dml_data=dml_data,\n",
    "            ml_l=clone(learners[\"ml_l\"]),\n",
    "            ml_m=clone(learners[\"ml_m\"]),\n",
    "            draw_sample_splitting=False,\n",
    "        )\n",
    "        dml_plm.set_sample_splitting(smpls)\n",
    "        dml_plm.fit(n_jobs_cv=5)\n",
    "\n",
    "        coefs[i_rep, i_learners] = dml_plm.coef[0]\n",
    "        loss_ml_m[i_rep, i_learners] = dml_plm.nuisance_loss[\"ml_m\"][0][0]\n",
    "        loss_ml_l[i_rep, i_learners] = dml_plm.nuisance_loss[\"ml_l\"][0][0]\n",
    "\n",
    "        confint = dml_plm.confint()\n",
    "        coverage[i_rep, i_learners] = (confint[\"2.5 %\"].iloc[0] <= theta) & (\n",
    "            confint[\"97.5 %\"].iloc[0] >= theta\n",
    "        )"
   ]
  },
  {
   "cell_type": "code",
   "execution_count": 13,
   "id": "de3e12b0",
   "metadata": {
    "execution": {
     "iopub.execute_input": "2025-02-19T14:06:07.186956Z",
     "iopub.status.busy": "2025-02-19T14:06:07.186577Z",
     "iopub.status.idle": "2025-02-19T14:06:07.191255Z",
     "shell.execute_reply": "2025-02-19T14:06:07.190736Z"
    }
   },
   "outputs": [
    {
     "name": "stdout",
     "output_type": "stream",
     "text": [
      "\n",
      "Coverage: Linear + Logistic      0.16\n",
      "Boosting + Logistic    0.18\n",
      "Linear + Boosting      0.32\n",
      "Boosting + Boosting    0.30\n",
      "dtype: float64\n"
     ]
    }
   ],
   "source": [
    "colnames = []\n",
    "for learner in learner_list:\n",
    "    l_name = re.sub('Regressor|Regression|CV|Gradient', '', learner['ml_l'].__class__.__name__)\n",
    "    m_name = re.sub('Classifier|CV|Regression|Gradient', '', learner['ml_m'].__class__.__name__)\n",
    "    colnames.append(f\"{l_name} + {m_name}\")\n",
    "\n",
    "coverage_df = pd.DataFrame(coverage, columns=colnames)\n",
    "print(f\"\\nCoverage: {coverage_df.mean(0)}\")"
   ]
  },
  {
   "cell_type": "markdown",
   "id": "f22988f1",
   "metadata": {},
   "source": [
    "Next, let us take a look at the corresponding results."
   ]
  },
  {
   "cell_type": "code",
   "execution_count": 14,
   "id": "e4a1627f",
   "metadata": {
    "execution": {
     "iopub.execute_input": "2025-02-19T14:06:07.192952Z",
     "iopub.status.busy": "2025-02-19T14:06:07.192553Z",
     "iopub.status.idle": "2025-02-19T14:06:07.196899Z",
     "shell.execute_reply": "2025-02-19T14:06:07.196075Z"
    }
   },
   "outputs": [],
   "source": [
    "\n",
    "df_coefs = pd.DataFrame(coefs, columns=colnames)\n",
    "df_ml_m = pd.DataFrame(loss_ml_m, columns=colnames)\n",
    "df_ml_l = pd.DataFrame(loss_ml_l, columns=colnames)"
   ]
  },
  {
   "cell_type": "code",
   "execution_count": 15,
   "id": "fec9e3fc",
   "metadata": {
    "execution": {
     "iopub.execute_input": "2025-02-19T14:06:07.198891Z",
     "iopub.status.busy": "2025-02-19T14:06:07.198698Z",
     "iopub.status.idle": "2025-02-19T14:06:07.628135Z",
     "shell.execute_reply": "2025-02-19T14:06:07.627485Z"
    },
    "lines_to_next_cell": 0
   },
   "outputs": [
    {
     "data": {
      "image/png": "[encoded data removed]",
      "text/plain": [
       "<Figure size 1500x500 with 4 Axes>"
      ]
     },
     "metadata": {},
     "output_type": "display_data"
    }
   ],
   "source": [
    "import seaborn as sns\n",
    "import matplotlib.pyplot as plt\n",
    "\n",
    "fig, axes = plt.subplots(2, 2, figsize=(15, 5))\n",
    "fig.suptitle(\"Learner Comparison\")\n",
    "\n",
    "sns.kdeplot(data=df_coefs, ax=axes[0][0], fill=True, alpha=0.3)\n",
    "sns.kdeplot(data=df_ml_m, ax=axes[0][1], fill=True, alpha=0.3, legend=False)\n",
    "sns.kdeplot(data=df_ml_l, ax=axes[1][0], fill=True, alpha=0.3, legend=False)\n",
    "\n",
    "axes[0][0].title.set_text(\"Estimated Parameter\")\n",
    "# axes[0][0].set_xlim(-10, 10)\n",
    "axes[0][1].title.set_text(\"Log Loss ml_m\")\n",
    "axes[1][0].title.set_text(\"RMSE ml_l\")\n",
    "\n",
    "plt.subplots_adjust(left=0.1, bottom=0.1, right=0.9, top=0.9, wspace=0.4, hspace=0.4)\n",
    "plt.show()"
   ]
  },
  {
   "cell_type": "markdown",
   "id": "7f2b644a",
   "metadata": {},
   "source": [
    "For non-linear data generation process, recovering the nuisance functions is more difficult. We see that the coverages are lower than for the linear case. The boosting models when used for the treatment assignment mechanism $m$ seems to be more efficient to recover the correct parameters. On the countrary, modeling the outcome $l$ by either a linear model or a boosting model does not seem to have a big impact on the treatment parameter estimation."
   ]
  }
 ],
 "metadata": {
  "kernelspec": {
   "display_name": "doubleml",
   "language": "python",
   "name": "python3"
  },
  "language_info": {
   "codemirror_mode": {
    "name": "ipython",
    "version": 3
   },
   "file_extension": ".py",
   "mimetype": "text/x-python",
   "name": "python",
   "nbconvert_exporter": "python",
   "pygments_lexer": "ipython3",
   "version": "3.12.3"
  }
 },
 "nbformat": 4,
 "nbformat_minor": 5
}
